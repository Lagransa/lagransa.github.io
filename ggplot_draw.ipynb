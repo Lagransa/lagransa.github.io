{
 "cells": [
  {
   "cell_type": "code",
   "execution_count": 1,
   "id": "e37e6aef-80a8-45c9-8889-63dec5c18203",
   "metadata": {},
   "outputs": [
    {
     "name": "stderr",
     "output_type": "stream",
     "text": [
      "-- \u001b[1mAttaching core tidyverse packages\u001b[22m ---------------------------------------------------------------- tidyverse 2.0.0 --\n",
      "\u001b[32mv\u001b[39m \u001b[34mdplyr    \u001b[39m 1.1.4     \u001b[32mv\u001b[39m \u001b[34mreadr    \u001b[39m 2.1.5\n",
      "\u001b[32mv\u001b[39m \u001b[34mforcats  \u001b[39m 1.0.0     \u001b[32mv\u001b[39m \u001b[34mstringr  \u001b[39m 1.5.1\n",
      "\u001b[32mv\u001b[39m \u001b[34mlubridate\u001b[39m 1.9.3     \u001b[32mv\u001b[39m \u001b[34mtibble   \u001b[39m 3.2.1\n",
      "\u001b[32mv\u001b[39m \u001b[34mpurrr    \u001b[39m 1.0.2     \u001b[32mv\u001b[39m \u001b[34mtidyr    \u001b[39m 1.3.1\n",
      "-- \u001b[1mConflicts\u001b[22m ---------------------------------------------------------------------------------- tidyverse_conflicts() --\n",
      "\u001b[31mx\u001b[39m \u001b[34mdplyr\u001b[39m::\u001b[32mfilter()\u001b[39m masks \u001b[34mstats\u001b[39m::filter()\n",
      "\u001b[31mx\u001b[39m \u001b[34mdplyr\u001b[39m::\u001b[32mlag()\u001b[39m    masks \u001b[34mstats\u001b[39m::lag()\n",
      "\u001b[36mi\u001b[39m Use the conflicted package (\u001b[3m\u001b[34m<http://conflicted.r-lib.org/>\u001b[39m\u001b[23m) to force all conflicts to become errors\n",
      "\n",
      "Attaching package: 'reshape2'\n",
      "\n",
      "\n",
      "The following object is masked from 'package:tidyr':\n",
      "\n",
      "    smiths\n",
      "\n",
      "\n"
     ]
    }
   ],
   "source": [
    "library(ggplot2)\n",
    "library(scatterplot3d)\n",
    "library(tidyverse)\n",
    "library(reshape2)"
   ]
  },
  {
   "cell_type": "code",
   "execution_count": 2,
   "id": "e5a5b4fa-c201-431d-beed-77c105357412",
   "metadata": {},
   "outputs": [],
   "source": [
    "setwd('C:/BMK_new_drive/WorkFlow_test')"
   ]
  },
  {
   "cell_type": "code",
   "execution_count": 13,
   "id": "60746366-0016-450e-8520-5272927d4e12",
   "metadata": {},
   "outputs": [
    {
     "name": "stderr",
     "output_type": "stream",
     "text": [
      "\n",
      "\u001b[36m--\u001b[39m \u001b[1mColumn specification\u001b[22m \u001b[36m------------------------------------------------------------------------------------------------\u001b[39m\n",
      "cols(\n",
      "  .default = col_double(),\n",
      "  X1 = \u001b[31mcol_character()\u001b[39m,\n",
      "  X2 = \u001b[31mcol_character()\u001b[39m\n",
      ")\n",
      "\u001b[36mi\u001b[39m Use `spec()` for the full column specifications.\n",
      "\n",
      "Warning message:\n",
      "\"Unknown or uninitialised column: `color`.\"\n"
     ]
    },
    {
     "data": {
      "text/html": [
       "<strong>png:</strong> 2"
      ],
      "text/latex": [
       "\\textbf{png:} 2"
      ],
      "text/markdown": [
       "**png:** 2"
      ],
      "text/plain": [
       "png \n",
       "  2 "
      ]
     },
     "metadata": {},
     "output_type": "display_data"
    }
   ],
   "source": [
    "args <- c('5th_132indv', 'eigenval', 'eigenvec')\n",
    "\n",
    "prefix <- args[1]\n",
    "evalue <- paste(prefix, '.', args[2], sep='')\n",
    "evector <- paste(prefix, '.', args[3], sep='')\n",
    "\n",
    "eigenval <- scan(evalue)\n",
    "eigenvec <- read_table2(evector, col_names=FALSE)\n",
    "eigenvec <- eigenvec[, -1]\n",
    "names(eigenvec)[1] <- 'ind'\n",
    "names(eigenvec)[2:ncol(eigenvec)] <- paste('PC', 1: (ncol(eigenvec) - 1), sep='')\n",
    "# names(eigenvec)\n",
    "ts <- data.frame(PC=1:(ncol(eigenvec)-1), pve=eigenval/sum(eigenval)*100)\n",
    "# ggplot(ts, aes(PC, pve)) + geom_bar(stat='identity') + ylab('pct') + coord_equal()\n",
    "graphics.off()\n",
    "pdf('test3d.pdf', width=10, height=10)\n",
    "scatterplot3d(eigenvec[, 2:4], type='h', pch=16, color='red')\n",
    "# eigenvec\n",
    "dev.off()"
   ]
  },
  {
   "cell_type": "code",
   "execution_count": 2,
   "id": "600816ff-280b-420a-aa14-3996ec45fecd",
   "metadata": {},
   "outputs": [],
   "source": [
    "# vcf统计量测试用例\n",
    "# args[1] = path, args[2] = prefix, args[3].... = extension of these statistic files\n",
    "\n",
    "# args <- commandArgs(trailingOnly=TRUE)\n",
    "args <- c('5th_132indv', 'frq', 'idepth', 'ldepth.mean', 'lqual', 'imiss', 'lmiss', 'het')\n",
    "\n",
    "alle_freq <- paste(args[2], '.', args[3], sep='')\n",
    "indv_mean_depth <- paste(args[2], '.', args[4], sep='')\n",
    "site_mean_depth <- paste(args[2], '.', args[5], sep='')\n",
    "site_quality <- paste(args[2], '.', args[6], sep='')\n",
    "missing_data_per_indv <- paste(args[2], '.', args[7], sep='')\n",
    "missing_data_per_site <- paste(args[2], '.', args[8], sep='')\n",
    "heterozygosity <- paste(args[2], '.', args[9], sep='')\n",
    "\n",
    "draw_lst <- c(site_quality, site_mean_depth, indv_mean_depth, missing_data_per_indv, missing_data_per_site, alle_freq, heterozygosity)\n",
    "\n",
    "#Site quality\n",
    "qual_data <- read_delim(draw_lst[1], col_names=c('chrom', 'pos', 'qual'), skip=1)\n",
    "p1 <- ggplot(qual_data, aes(qual)) + geom_density(fill='dodgerblue1', colour='blue', alpha=0.3)\n",
    "p1 <- p1 + theme(panel.grid.major=element_blank(), panel.grid.minor=element_blank(), panel.background=element_rect(fill='transparent'), axis.line=element_line(colour='black'), axis.text=element_text(size=14), axis.title=element_text(size=20)) + xlim(0, 10000)\n",
    "ggsave('site_qual.pdf', p1, scale=3, dpi=300)\n",
    "\n",
    "#Site mean depth\n",
    "sdepth_data <- read_delim(draw_lst[2], col_names=c(\"chr\", \"pos\", \"mean_depth\", \"var_depth\"), skip=1)\n",
    "p2 <- ggplot(sdepth_data, aes(mean_depth)) + geom_density(fill='dodgerblue1', colour='blue', alpha=0.3)\n",
    "p2 <- p2 + theme(panel.grid.major=element_blank(), panel.grid.minor=element_blank(), panel.background=element_rect(fill='transparent'), axis.line=element_line(colour='black'), axis.text=element_text(size=14), axis.title=element_text(size=20)) + xlim(0, 50)\n",
    "ggsave('site_depth.pdf', p2, scale=3, dpi=300)\n",
    "\n",
    "#indv mean depth\n",
    "idepth_data <- read_delim(draw_lst[3], col_names=c(\"ind\", \"nsites\", \"depth\"), skip=1)\n",
    "p3 <- ggplot(idepth_data, aes(depth)) + geom_histogram(fill='dodgerblue1', colour='blue', alpha=0.3)\n",
    "p3 <- p3 + theme(panel.grid.major=element_blank(), panel.grid.minor=element_blank(), panel.background=element_rect(fill='transparent'), axis.line=element_line(colour='black'), axis.text=element_text(size=14), axis.title=element_text(size=20))\n",
    "ggsave('individual_depth.pdf', p3, scale=3, dpi=300)\n",
    "\n",
    "#missing data per indv\n",
    "imiss_data <- read_delim(draw_lst[4], col_names=c(\"ind\", \"ndata\", \"nfiltered\", \"nmiss\", \"fmiss\"), skip=1)\n",
    "p4 <- ggplot(imiss_data, aes(fmiss)) + geom_histogram(fill='dodgerblue1', colour='blue', alpha=0.3)\n",
    "p4 <- p4 + theme(panel.grid.major=element_blank(), panel.grid.minor=element_blank(), panel.background=element_rect(fill='transparent'), axis.line=element_line(colour='black'), axis.text=element_text(size=14), axis.title=element_text(size=20))\n",
    "ggsave('individual_missing_data.pdf', p4, scale=3, dpi=300)\n",
    "\n",
    "#missing data per site\n",
    "lmiss_data <- read_delim(draw_lst[5], col_names=c(\"ind\", \"ndata\", \"nfiltered\", \"nmiss\", \"fmiss\"), skip=1)\n",
    "p5 <- ggplot(lmiss_data, aes(fmiss)) + geom_histogram(fill='dodgerblue1', colour='blue', alpha=0.3)\n",
    "p5 <- p5 + theme(panel.grid.major=element_blank(), panel.grid.minor=element_blank(), panel.background=element_rect(fill='transparent'), axis.line=element_line(colour='black'), axis.text=element_text(size=14), axis.title=element_text(size=20))\n",
    "ggsave('site_missing_data.pdf', p5, scale=3, dpi=300)\n",
    "\n",
    "#Allele freq\n",
    "freq_data <- read_delim(draw_lst[6], delim='\\t', col_names=c('chrom', 'pos', 'n_alleles', 'chr', 'a1', 'a2'), skip=1)\n",
    "freq_data$min_allele <- freq_data %>% select(a1, a2) %>% apply(1, min)\n",
    "p6 <- ggplot(freq_data, aes(min_allele)) + geom_density(fill='dodgerblue1', colour='blue', alpha=0.3)\n",
    "p6 <- p6 + theme(panel.grid.major=element_blank(), panel.grid.minor=element_blank(), panel.background=element_rect(fill='transparent'), axis.line=element_line(colour='black'), axis.text=element_text(size=14), axis.title=element_text(size=20))\n",
    "ggsave('allele_freq.pdf', p6, scale=3, dpi=300)\n",
    "\n",
    "#heterozygosity\n",
    "het_data <- read_delim(draw_lst[7], col_names=c(\"ind\",\"ho\", \"he\", \"nsites\", \"f\"), skip=1)\n",
    "p7 <- ggplot(het_data, aes(f)) + geom_histogram(fill='dodgerblue1', colour='blue', alpha=0.3)\n",
    "p7 <- p7 + theme(panel.grid.major=element_blank(), panel.grid.minor=element_blank(), panel.background=element_rect(fill='transparent'), axis.line=element_line(colour='black'), axis.text=element_text(size=14), axis.title=element_text(size=20))\n",
    "ggsave('heterozygosity.pdf', p7, scale=3, dpi=300)"
   ]
  }
 ],
 "metadata": {
  "kernelspec": {
   "display_name": "R",
   "language": "R",
   "name": "ir"
  },
  "language_info": {
   "codemirror_mode": "r",
   "file_extension": ".r",
   "mimetype": "text/x-r-source",
   "name": "R",
   "pygments_lexer": "r",
   "version": "4.0.5"
  }
 },
 "nbformat": 4,
 "nbformat_minor": 5
}
