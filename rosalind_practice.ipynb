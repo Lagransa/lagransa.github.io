{
 "cells": [
  {
   "cell_type": "code",
   "execution_count": 1,
   "id": "c6f1595c-6bce-440a-a63a-127e27deac60",
   "metadata": {},
   "outputs": [],
   "source": [
    "import numpy as np\n",
    "import pandas as pd\n",
    "import re\n",
    "import os"
   ]
  },
  {
   "cell_type": "code",
   "execution_count": 4,
   "id": "fb525181-3c3f-45b8-82b5-1ecffc7365d0",
   "metadata": {},
   "outputs": [],
   "source": [
    "path = 'D:/Download/SD模型/英文文章引言参考文献/scRNA_data/roseland_data'"
   ]
  },
  {
   "cell_type": "code",
   "execution_count": 35,
   "id": "cabf96d8-6976-43da-a1e3-602a495dfe4b",
   "metadata": {},
   "outputs": [],
   "source": [
    "with open(path + '/rosalind_revc.txt', 'r+') as f:\n",
    "    context = f.readlines()\n"
   ]
  },
  {
   "cell_type": "code",
   "execution_count": 24,
   "id": "e0f79871-139d-41c3-b780-03391aa5d6de",
   "metadata": {},
   "outputs": [
    {
     "name": "stdout",
     "output_type": "stream",
     "text": [
      "[193, 196, 220, 202]\n"
     ]
    }
   ],
   "source": [
    "#碱基基数\n",
    "dic = {'A':0, 'C':0, 'G':0, 'T':0}\n",
    "for i in context[0]:\n",
    "    if i in list(dic.keys()):\n",
    "        dic[i] += 1\n",
    "print(list(dic.values()))"
   ]
  },
  {
   "cell_type": "code",
   "execution_count": 32,
   "id": "c86cab6a-7b13-4a86-a0f1-17a52719824b",
   "metadata": {},
   "outputs": [
    {
     "name": "stdout",
     "output_type": "stream",
     "text": [
      "ACGAUGAGAGAUCGUUUUCGGCUUCGGCUUUUUUCUACACUCCGGUCCGCGGGACGAUUAAGGAGAUCAAUGACGGGCACGGUCAUUUUAACAACGCCUGUAGCCUGAUCACGACAUCAGUCCUCACAAGGCUUACUUUACUCACAAGAGAUCAAUUCCCAACGGCGAAGUGUUCUAUCUGAUGGCAUUAGCCGAACCCUGUUCCAGCUCGGACUAUGAAUCCAUUUUGUUCAUAUACGUUACUAUAACAAAUGGCGGAGUCGCGACGGCUCGAAGUGUAGGAGGUUUCUGCCGCAAUUUCUAAUGAGGGCUACCCGUUGGACACUGCAUACCUUAGAUUGUAACGGAGGCUUCGGACAAUGCCAUGGUCAUCGGACGCUCAGCACCCUGUGCUCCGGAGCAGCUGUCCACUCUUCCCUGAUGAAUUUGUCCUGUUUAUCGCUAUCCUAAGGUGCUUCGUGGUAUUAAUGUGUAAAUGAGCAGAGGCAAAGAAAUUAUGUCUACAACUUGUUUCGCGUGAAGAGGUAGGGCGGUUAAUGUUCCAAGACCCAAAUGAAUAUUCGAGUUGAAAAAGCCGCCGAAUUAGGGAAAAUUGCAUAUAUACGCAGAAGUUGCGCUCAGCAAUCGCUGACUCAGCACGAGAUGCGUGCCAAACUGAGCGUAGCUACGGGGUAUGCCGGAUCGGAGGGCCAAUUUCGGUCGGUUGGCAAGUCGACCACCGGGGGACAGCGUCAAUCCAUGGAAUCGGUAUAGUGCAAGACUCAUUGGGCGUCUCCUGAGAUAUUGCAUUUGUCCCACUCAAAAUGUACAAGCUGCCCGAGCGAGCAGCAGGAUUUAGGUCAGGCUACUUCGCGGAACCACGAGUGGCUUGUACCCAACUCCGGGUUCCCUAGGUUAAAGUGUAGACCGUCUCUUGCGAUGUAGCCU\n"
     ]
    }
   ],
   "source": [
    "#DNA转RNA\n",
    "tmp = []\n",
    "for i in range(len(context[0])):\n",
    "    if context[0][i] == 'T':\n",
    "        tmp.append('U')\n",
    "    elif context[0][i] in ['A', 'C', 'G']:\n",
    "        tmp.append(context[0][i])\n",
    "    else:\n",
    "        continue\n",
    "print(''.join(tmp))"
   ]
  },
  {
   "cell_type": "code",
   "execution_count": 36,
   "id": "3b90ce1d-1775-4eb6-bc50-93589e069e69",
   "metadata": {},
   "outputs": [
    {
     "name": "stdout",
     "output_type": "stream",
     "text": [
      "GCCCAGTTAGAGGCGGTGAAAAAGTGTTAATTGCAATCTTAACGAACCGGTCCACCCTCAACATTTATATAATAAGTGGTCAAATCAGTAAAGTAGCGGCAGGCGTCATACTAACCTTTGCGGGCATGCCGCTATGGAAGACCTTTGTTTAACTACGACTTCGGCCCGAGAACGTCCAAGCAGTGCAACTTACTGTAAGGGAGCGTCGTCTGTGAAATAGACGAAATCTAGTTCTAGGCTTAAGCGCGATGACATGTACGAAGGATATGACCAGTGAGAGCCAAGGCAACAACCTATTGGCCGATCGAGGCTAAGAGTCTGTTGCGCCCGTATTCCGGTAATTGGGCATTAGACAGTCAACTCCTGAGGCCGGCCCCACCCTCGGGTGTTTCCAAAGCTACTGGTTCCAGGCACCGATGTTCGGAATGTACCTAGCTAAGCTCAGCGCTAAATCTCTCCGTCTCATGCGTTGCCAGGAACAAAGGAAGCCTAGTGATGTGTGATGGTGAACATGTAGGTTCTTCTCGCTGGCACCCACGCGTAGCTCGATCACAGGACTTGCTAGGTTTATAGTGATTCATCCAGAGCTATACGGATCATGTTTATTTCCCATGCTAGTTAATGCTCAGTTACCGAATTCAGAATGGTGCACAAAAGGAACCAGCTACGCGATGAAATAGCTTGTCGTTTTCGTACACATCTGGAGTCCTCTACGAGGTGGACACAGATAAAGAGGGTGAATGTCGGCCTACCACCGAGCATTGTCCTTTTCCTCGCGAAGCCGTACTATGTACCCTCATAGCCTAAA\n"
     ]
    }
   ],
   "source": [
    "#互补链\n",
    "tmp = []\n",
    "for i in list(context[0]):\n",
    "    if i == 'A':\n",
    "        tmp.append('T')\n",
    "    elif i == 'T':\n",
    "        tmp.append('A')\n",
    "    elif i == 'G':\n",
    "        tmp.append('C')\n",
    "    elif i == 'C':\n",
    "        tmp.append('G')\n",
    "    else:\n",
    "        continue\n",
    "print(''.join(tmp[::-1]))"
   ]
  },
  {
   "cell_type": "code",
   "execution_count": 48,
   "id": "b1ebfa72-98f0-4280-946e-36c83da63d72",
   "metadata": {},
   "outputs": [
    {
     "name": "stdout",
     "output_type": "stream",
     "text": [
      "5164501096416\n"
     ]
    }
   ],
   "source": [
    "#斐波那契数列变体\n",
    "#n1 = 1 n2 = 1 n3 = 4 n4 = 4+3 n5 = \n",
    "n, k = 30, 5\n",
    "init = 1\n",
    "def fibonacci(sexual, baby, n, k):\n",
    "    baby_new = sexual * k\n",
    "    sexual_new = sexual + baby\n",
    "    if n > 2:\n",
    "        n -= 1\n",
    "        fibonacci(sexual_new, baby_new, n, k)\n",
    "    else:\n",
    "        print(sexual_new + baby_new)\n",
    "\n",
    "fibonacci(0, 1, n, k)"
   ]
  },
  {
   "cell_type": "code",
   "execution_count": 103,
   "id": "e01150b1-b120-4d72-9f6f-a5b104e9bd1d",
   "metadata": {},
   "outputs": [
    {
     "name": "stdout",
     "output_type": "stream",
     "text": [
      "1776256265576960814\n"
     ]
    }
   ],
   "source": [
    "#兔子只能活m月问题\n",
    "#思路：个体数量用list，第二项是剩余活命时间如[5, 3]，5个个体，剩余3月寿命\n",
    "n, m = 89, 20\n",
    "m -= 2\n",
    "init = []\n",
    "baby = [1, m]\n",
    "count = 1\n",
    "def fibonacci_2(sexual, baby, n, m):\n",
    "    global count\n",
    "    # print(count, sexual, baby)\n",
    "    count += 1\n",
    "    sexual_new = []\n",
    "    if len(sexual) != 0:\n",
    "        tst = [x[0] for x in sexual]\n",
    "        live_now = sum(tst)\n",
    "        baby_new = [live_now, m]\n",
    "        for j in range(len(sexual)):\n",
    "            if sexual[j][1] != 0:\n",
    "                sexual[j][1] -= 1\n",
    "                sexual_new.append(sexual[j])\n",
    "            else:\n",
    "                continue\n",
    "    else:\n",
    "        baby_new = []\n",
    "    if len(baby) != 0:\n",
    "        sexual_new.append(baby)\n",
    "    if n > 1:\n",
    "        n -= 1\n",
    "        fibonacci_2(sexual_new, baby_new, n, m)\n",
    "    else:\n",
    "        live_all = live_now + baby[0]\n",
    "        print(live_all)\n",
    "\n",
    "fibonacci_2(init, baby, n, m)"
   ]
  },
  {
   "cell_type": "code",
   "execution_count": 107,
   "id": "cf4afd03-b5e0-4291-bcd8-fb714478b1be",
   "metadata": {},
   "outputs": [
    {
     "name": "stdout",
     "output_type": "stream",
     "text": [
      "[0, 1, 0]\n",
      "[1, 0, 1]\n",
      "[1, 1, 0]\n",
      "[1, 1, 1]\n",
      "[2, 1, 1]\n"
     ]
    },
    {
     "data": {
      "text/plain": [
       "4"
      ]
     },
     "execution_count": 107,
     "metadata": {},
     "output_type": "execute_result"
    }
   ],
   "source": [
    "#fibo2 最高赞回答\n",
    "#把兔子的生命当作倒计时，开n位数组，每一位代表当前剩余寿命的个体，生育只取第二位往后的，因为第一位是宝宝，因为list迭代到最后一位的都是下一轮就死的，所以下一轮直接删\n",
    "def fib(n,k=1):\n",
    "  ages = [1] + [0]*(k-1)\n",
    "  for i in range(n-1):\n",
    "    ages = [sum(ages[1:])] + ages[:-1]\n",
    "    print(ages)\n",
    "  return sum(ages)\n",
    "\n",
    "n, m = 6, 3\n",
    "fib(n, m)"
   ]
  },
  {
   "cell_type": "code",
   "execution_count": 136,
   "id": "e9257571-7981-4232-b39c-9920b2ae993c",
   "metadata": {},
   "outputs": [
    {
     "data": {
      "text/plain": [
       "['>Rosalind_7744',\n",
       " 'ATCCAGGATGATGGCAAGATTAGTCAGCACTTTTCATCGACAACGCTTTTCGATCAGCCG',\n",
       " 'TGCAACGGCACCGTCGAAGTTTCCTCGGAGCGGGTTCAAGCACGTCCACCGGAAACTGTC']"
      ]
     },
     "execution_count": 136,
     "metadata": {},
     "output_type": "execute_result"
    }
   ],
   "source": [
    "with open(path + '/rosalind_gc.txt', 'r+') as f:\n",
    "    context = f.readlines()\n",
    "context = [i.strip() for i in context]\n",
    "context[:3]"
   ]
  },
  {
   "cell_type": "code",
   "execution_count": 137,
   "id": "8e6da75a-5175-4250-9587-37b7ad064f20",
   "metadata": {},
   "outputs": [
    {
     "name": "stdout",
     "output_type": "stream",
     "text": [
      "Rosalind_7744 52.677459999999996\n"
     ]
    }
   ],
   "source": [
    "#GC含量\n",
    "####主要问题出在readlines返回列表要一个个拼序列不如直接read给一个大字符串然后切直接split('>')犯不上用正则\n",
    "# pattern = '^>.*'\n",
    "# def GC_content(seq):\n",
    "#     nametmp = ''\n",
    "#     tmp = []\n",
    "#     biggest = 0\n",
    "#     for i in seq:\n",
    "#         if re.findall(pattern, i): #第二次遇到title\n",
    "#             if tmp == []: #如果tmp为空\n",
    "#                 tmp.append(i[1:]) #记录新序列\n",
    "#             else: #否则证明已有序列，计算前一个序列的GC含量\n",
    "#                 pct = seq_calcu(''.join(tmp[1:]))\n",
    "#                 if pct > biggest:\n",
    "#                     biggest = pct\n",
    "#                     nametmp = tmp[0]\n",
    "#                     tmp = [i[1:]]\n",
    "#                 else:\n",
    "#                     tmp = [i[1:]]\n",
    "#         elif i == seq[-1]:\n",
    "#             tmp.append(i)\n",
    "#             pct = seq_calcu(''.join(tmp[1:]))\n",
    "#             if pct > biggest:\n",
    "#                 biggest = pct\n",
    "#                 nametmp = tmp[0]\n",
    "#         else:\n",
    "#             tmp.append(i)\n",
    "#     print(nametmp, biggest * 100)\n",
    "\n",
    "# def seq_calcu(fragment):\n",
    "#     count = 0\n",
    "#     content = ['G', 'C']\n",
    "#     for i in fragment:\n",
    "#         if i in content:\n",
    "#             count += 1\n",
    "#     return round(count / len(fragment), 8)\n",
    "        \n",
    "# GC_content(context)\n",
    "\n"
   ]
  },
  {
   "cell_type": "code",
   "execution_count": null,
   "id": "14d66db3-3189-4554-9682-8ca0e7b7df7e",
   "metadata": {
    "scrolled": true
   },
   "outputs": [],
   "source": [
    "with open(path + '/rosalind_gc.txt', 'r+') as f:\n",
    "    context = f.read()\n",
    "context = context.split('>')[1:]\n",
    "# pattern = '.+\\d+\\s'\n",
    "# len(re.findall(pattern, context[0])[0])\n",
    "\n",
    "def read_GC_content(alignment):\n",
    "    biggest = 0\n",
    "    name = ''\n",
    "    pattern = '.+\\d+\\s'\n",
    "    for seq in alignment:\n",
    "        title = re.findall(pattern, seq)[0].strip()\n",
    "        nuc_acid = seq[len(title):]\n",
    "        count = nuc_acid.count('C') + nuc_acid.count('G')\n",
    "        all = nuc_acid.count('A') + nuc_acid.count('T') + count\n",
    "        pct = count / all\n",
    "        if pct > biggest:\n",
    "            name = title\n",
    "            biggest = pct\n",
    "    print(name, round(biggest, 8) * 100)\n",
    "\n",
    "read_GC_content(context)"
   ]
  },
  {
   "cell_type": "code",
   "execution_count": 189,
   "id": "ad11107d-3702-4053-8c0e-d8697cdee613",
   "metadata": {},
   "outputs": [
    {
     "data": {
      "text/plain": [
       "0.35"
      ]
     },
     "execution_count": 189,
     "metadata": {},
     "output_type": "execute_result"
    }
   ],
   "source": [
    "#孟德尔第一定律\n",
    "#注意不放回\n",
    "def mondel_first(pop_dominate, pop_hete, pop_recessive):\n",
    "    all = pop_dominate + pop_hete + pop_recessive\n",
    "    pct_domin, pct_hete, pct_recess = pop_dominate / all, pop_hete / all, pop_recessive / all\n",
    "    double_domin = pct_domin * ((pop_dominate - 1) / (all - 1))\n",
    "    domin_hete = pct_domin * ((pop_hete) / (all - 1)) + pct_hete * ((pop_dominate) / (all - 1))\n",
    "    double_hete_domin = pct_hete * ((pop_hete - 1) / (all - 1)) / 4\n",
    "    # double_hete_hete = pct_hete * ((pop_hete - 1) / (all - 1)) / 2\n",
    "    # domin_recess = pct_domin * ((pop_recessive) / (all - 1)) + pct_recess * ((pop_dominate) / (all - 1))\n",
    "    # hete_recess = pct_hete * ((pop_recessive) / (all - 1)) / 2 + pct_recess * ((pop_hete) / (all - 1))\n",
    "    tmp = [double_domin, double_hete_domin, domin_hete]\n",
    "    \n",
    "    return(sum(tmp))\n",
    "\n",
    "mondel_first(2, 2, 2)"
   ]
  },
  {
   "cell_type": "code",
   "execution_count": null,
   "id": "c59ad925-7723-4924-a2b0-401677b2227c",
   "metadata": {},
   "outputs": [],
   "source": []
  }
 ],
 "metadata": {
  "kernelspec": {
   "display_name": "Python 3 (ipykernel)",
   "language": "python",
   "name": "python3"
  },
  "language_info": {
   "codemirror_mode": {
    "name": "ipython",
    "version": 3
   },
   "file_extension": ".py",
   "mimetype": "text/x-python",
   "name": "python",
   "nbconvert_exporter": "python",
   "pygments_lexer": "ipython3",
   "version": "3.10.6"
  }
 },
 "nbformat": 4,
 "nbformat_minor": 5
}
