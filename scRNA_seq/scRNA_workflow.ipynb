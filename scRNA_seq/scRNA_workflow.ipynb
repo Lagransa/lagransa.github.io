{
 "cells": [
  {
   "cell_type": "code",
   "execution_count": 4,
   "id": "8a17ff55-5818-4640-a6e0-b769fa0de39c",
   "metadata": {},
   "outputs": [],
   "source": [
    "import os\n",
    "import subprocess\n",
    "import re\n",
    "import matplotlib as plt"
   ]
  },
  {
   "cell_type": "code",
   "execution_count": 9,
   "id": "4382ef2f-c480-4e53-92c0-f7c3c56bc250",
   "metadata": {},
   "outputs": [],
   "source": [
    "def cellRanger(project_id, transcript_path, reads_path, mkref_path, gtf_path, num_workers, mkref=False, create_bam='TRUE'):\n",
    "    try:\n",
    "        if not mkref:  \n",
    "            return f'cellranger count --id={project_id} --transcriptome={transcript_path} --fastqs={reads_path} --create-bam <{create_bam}>'\n",
    "        else:\n",
    "            cmd1 = f'cellranger mkref --genome={transcript_path} --fasta={mkref_path} --genes={gtf_path} --nthreads={num_workers} &&'\n",
    "            cmd2 = f'cellranger count --id={project_id} --transcriptome={transcript_path} --fastqs={reads_path} --create-bam <{create_bam}>'\n",
    "            return [cmd1, cmd2]\n",
    "    except Exception as e:\n",
    "        print(f'Error message: {e}')"
   ]
  },
  {
   "cell_type": "code",
   "execution_count": 11,
   "id": "76481d4b-e505-4882-ae9d-6ce46ff84a97",
   "metadata": {},
   "outputs": [],
   "source": [
    "def cmd_dealer(cmd):\n",
    "    cmd = [cmd] if type(cmd)==str else cmd\n",
    "    for i in range(len(cmd)):\n",
    "        cmd[i] = cmd[i].split()\n",
    "    if len(cmd) > 1:\n",
    "        for n in range(0, len(cmd) - 1):\n",
    "            cmd[n].append('&&')\n",
    "    return cmd\n",
    "\n",
    "\n",
    "def cellRanger_pipe(cmd, cwd=None, stderr=subprocess.PIPE, stdout=None, encoding=None, univer=None):\n",
    "    assert isinstance(cmd, list)\n",
    "    try:\n",
    "        p = subprocess.run(cmd, shell=True, cwd=cwd, stderr=stderr, stdout=stdout, encoding=encoding, universal_newlines=univer)\n",
    "        if p.returncode == 0:\n",
    "            print(f'Pipe {num_pipe} command of software {software} running successfully!')\n",
    "            return p\n",
    "        else:\n",
    "            print(f'Error: Pipe {num_pipe} command failed with code{p.returncode}, check your parameters!')\n",
    "            return p\n",
    "    except Exception as e:\n",
    "        print(f'Workflow shutdown with error message: {e}')\n",
    "\n",
    "\n",
    "def seurat_matrixQC(script_path, data_path, sample_ls=None):\n",
    "    return ['Rscript', script_path, data_path, sample_ls] if sample_ls != None else ['Rscript', script_path, data_path,]\n",
    "\n",
    "def "
   ]
  },
  {
   "cell_type": "code",
   "execution_count": 8,
   "id": "d1fd3b5e-4836-4d9b-9118-32aff9d657de",
   "metadata": {},
   "outputs": [],
   "source": [
    "ta = ['ls', '-a', '>>', 'test_ls_cmd.txt','&&', 'mkdir', 'test_mkdir']"
   ]
  },
  {
   "cell_type": "code",
   "execution_count": 9,
   "id": "f07f4a48-5041-45e4-94a4-f36970aa7a34",
   "metadata": {},
   "outputs": [
    {
     "data": {
      "text/plain": [
       "CompletedProcess(args=['ls', '-a', '>>', 'test_ls_cmd.txt', '&&', 'mkdir', 'test_mkdir'], returncode=0)"
      ]
     },
     "execution_count": 9,
     "metadata": {},
     "output_type": "execute_result"
    }
   ],
   "source": [
    "subprocess.run(ta, shell=True, universal_newlines=True)"
   ]
  }
 ],
 "metadata": {
  "kernelspec": {
   "display_name": "Python 3 (ipykernel)",
   "language": "python",
   "name": "python3"
  },
  "language_info": {
   "codemirror_mode": {
    "name": "ipython",
    "version": 3
   },
   "file_extension": ".py",
   "mimetype": "text/x-python",
   "name": "python",
   "nbconvert_exporter": "python",
   "pygments_lexer": "ipython3",
   "version": "3.10.6"
  }
 },
 "nbformat": 4,
 "nbformat_minor": 5
}
