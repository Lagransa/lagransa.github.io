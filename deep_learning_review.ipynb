{
 "cells": [
  {
   "cell_type": "code",
   "execution_count": 1,
   "id": "73b35663-e981-4b25-bf31-e43e48668219",
   "metadata": {},
   "outputs": [],
   "source": [
    "import pandas\n",
    "import math\n",
    "import torch\n",
    "import numpy as np\n",
    "from torch.utils.data import dataloader, dataset\n",
    "from torch import nn\n",
    "from matplotlib import pyplot as plt"
   ]
  },
  {
   "cell_type": "code",
   "execution_count": null,
   "id": "cf075c15-bba0-4ac4-b21d-0d9988fcb0bd",
   "metadata": {},
   "outputs": [],
   "source": [
    "class Auto_Encoder(nn.Module):\n",
    "    def __init__(self, input_size):\n",
    "        super.__init__()\n",
    "        self.input_size = input_size\n",
    "        \n",
    "        self.net_encoder = nn.Sequential(\n",
    "            nn.Flatten(),\n",
    "            nn.Linear(self.input_size, 64),\n",
    "            nn.ReLU(),\n",
    "            nn.Linear(64, 32),\n",
    "            nn.ReLU(),\n",
    "            nn.Linear(32, 16),\n",
    "        )\n",
    "        self.net_decoder = nn.Sequential(\n",
    "            nn.Linear(16, 32),\n",
    "            nn.ReLU(),\n",
    "            nn.Linear(32, 64),\n",
    "            nn.ReLU(),\n",
    "            nn.Linear(64, self.input_size)\n",
    "        )\n",
    "\n",
    "    def encoder(self, X):\n",
    "        return self.net_encoder(X)\n",
    "\n",
    "    def decoder(self, X):\n",
    "        return self.net_decoder(X)\n",
    "\n",
    "    def forward(self, X):\n",
    "        assert isinstance(X, torch.Tensor)\n",
    "        X = self.net_encoder(X)\n",
    "        return self.net_decoder(X)"
   ]
  },
  {
   "cell_type": "code",
   "execution_count": null,
   "id": "5eaac89e-03f8-4bea-be06-de88a95cb490",
   "metadata": {},
   "outputs": [],
   "source": []
  }
 ],
 "metadata": {
  "kernelspec": {
   "display_name": "Python 3 (ipykernel)",
   "language": "python",
   "name": "python3"
  },
  "language_info": {
   "codemirror_mode": {
    "name": "ipython",
    "version": 3
   },
   "file_extension": ".py",
   "mimetype": "text/x-python",
   "name": "python",
   "nbconvert_exporter": "python",
   "pygments_lexer": "ipython3",
   "version": "3.10.6"
  }
 },
 "nbformat": 4,
 "nbformat_minor": 5
}
