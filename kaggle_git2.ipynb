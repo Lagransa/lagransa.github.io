{
 "cells": [
  {
   "cell_type": "code",
   "execution_count": 1,
   "id": "a8eb576e-c4d8-4e05-a7c9-5ec0c67e7c9c",
   "metadata": {},
   "outputs": [],
   "source": [
    "import pandas as pd\n",
    "import numpy as np\n",
    "import torch\n",
    "from torch import nn\n",
    "from matplotlib import pyplot as plt\n",
    "from torch.utils.data import dataloader as DataLoader\n",
    "from torch.utils.data import dataset as Dataset\n",
    "import seaborn as sns"
   ]
  },
  {
   "cell_type": "code",
   "execution_count": 31,
   "id": "9e594bf7-1aee-4ae6-9b64-1d9d3139a54a",
   "metadata": {},
   "outputs": [
    {
     "data": {
      "text/plain": [
       "PassengerId     0\n",
       "HomePlanet      0\n",
       "CryoSleep       0\n",
       "Cabin           0\n",
       "Destination     0\n",
       "Age             0\n",
       "VIP             0\n",
       "RoomService     0\n",
       "FoodCourt       0\n",
       "ShoppingMall    0\n",
       "Spa             0\n",
       "VRDeck          0\n",
       "Name            0\n",
       "Transported     0\n",
       "dtype: int64"
      ]
     },
     "execution_count": 31,
     "metadata": {},
     "output_type": "execute_result"
    }
   ],
   "source": [
    "raw_data = pd.read_csv('D:/Code_software/Jupyter_Notebook/kaggle2_data/space_ship_train.csv')\n",
    "# raw_data.isna().sum(), raw_data.dtypes, raw_data.head(5)\n",
    "#反选不含nan的行\n",
    "raw_data[~raw_data.isna().any(axis=1)]"
   ]
  },
  {
   "cell_type": "code",
   "execution_count": 3,
   "id": "8c73849f-bbb6-4724-b2f4-607dbe8dbb38",
   "metadata": {},
   "outputs": [],
   "source": [
    "pop_data = raw_data.drop(['PassengerId', 'Cabin', 'Name', 'Transported'], axis=1)"
   ]
  },
  {
   "cell_type": "code",
   "execution_count": 4,
   "id": "6c595f1c-14dc-4ba5-a913-8958182312db",
   "metadata": {},
   "outputs": [
    {
     "name": "stderr",
     "output_type": "stream",
     "text": [
      "C:\\Users\\57445\\AppData\\Local\\Temp\\ipykernel_40928\\3740201102.py:2: SettingWithCopyWarning: \n",
      "A value is trying to be set on a copy of a slice from a DataFrame\n",
      "\n",
      "See the caveats in the documentation: https://pandas.pydata.org/pandas-docs/stable/user_guide/indexing.html#returning-a-view-versus-a-copy\n",
      "  label_raw[label_raw==True] = 1\n"
     ]
    }
   ],
   "source": [
    "label_raw = raw_data['Transported']\n",
    "label_raw[label_raw==True] = 1\n",
    "label_raw[label_raw==False] = 0\n",
    "label_new = label_raw.astype('long').values"
   ]
  },
  {
   "cell_type": "code",
   "execution_count": 5,
   "id": "65a66b32-069b-4523-b071-b83a289acabc",
   "metadata": {
    "scrolled": true
   },
   "outputs": [],
   "source": [
    "pop_data = pop_data.fillna(method='ffill')\n",
    "pop_data = pd.get_dummies(pop_data).astype('float')"
   ]
  },
  {
   "cell_type": "code",
   "execution_count": 6,
   "id": "c71848f6-e2fa-4fe5-9c01-d8cdbb16b0ab",
   "metadata": {},
   "outputs": [],
   "source": [
    "pop_data = pop_data.apply(lambda x: (x - x.mean()) / x.std()).values"
   ]
  },
  {
   "cell_type": "code",
   "execution_count": 7,
   "id": "03f34dd0-16e3-467f-b59a-1bdc5a883e61",
   "metadata": {},
   "outputs": [],
   "source": [
    "train_pct = round(0.7 * len(pop_data))\n",
    "train_set = pop_data[:train_pct]\n",
    "train_label = label_new[:train_pct]\n",
    "test_set = pop_data[train_pct:]\n",
    "test_label = label_new[train_pct:]"
   ]
  },
  {
   "cell_type": "code",
   "execution_count": null,
   "id": "c2ba3a08-9976-4325-8f04-4ce2dd8357d7",
   "metadata": {},
   "outputs": [],
   "source": []
  },
  {
   "cell_type": "code",
   "execution_count": 8,
   "id": "4d5d40e5-eac1-4192-917a-61a62c9f62c2",
   "metadata": {},
   "outputs": [],
   "source": [
    "class dataset(Dataset.Dataset):\n",
    "    def __init__(self, data_set, label_set):\n",
    "        self.data = torch.Tensor(data_set)\n",
    "        self.label = torch.from_numpy(label_set).type(torch.long)\n",
    "    \n",
    "    def __getitem__(self, index):\n",
    "        return self.data[index], self.label[index]\n",
    "\n",
    "    def __len__(self):\n",
    "        return len(self.data)"
   ]
  },
  {
   "cell_type": "code",
   "execution_count": 9,
   "id": "c7b09e63-4e88-4a08-abb6-2116a35012cd",
   "metadata": {},
   "outputs": [],
   "source": [
    "train_dataset = dataset(train_set, train_label)\n",
    "test_dataset = dataset(test_set, test_label)"
   ]
  },
  {
   "cell_type": "code",
   "execution_count": 10,
   "id": "28efd108-7fb8-431f-a038-e507e53f8beb",
   "metadata": {},
   "outputs": [],
   "source": [
    "train_iter = DataLoader.DataLoader(dataset=train_dataset, batch_size=100)\n",
    "test_iter = DataLoader.DataLoader(dataset=test_dataset, batch_size=100)"
   ]
  },
  {
   "cell_type": "code",
   "execution_count": 21,
   "id": "f8a6ef24-2b76-47e9-b265-0cad446509e4",
   "metadata": {},
   "outputs": [],
   "source": [
    "class Accumulator():\n",
    "    def __init__(self, n):\n",
    "        assert type(n) == int\n",
    "        self.n = n\n",
    "        self.matrix = [0.0] * self.n\n",
    "\n",
    "    def add(self, *args):\n",
    "        self.matrix = [a + float(b) for a, b in zip(self.matrix, args)]\n",
    "\n",
    "    def reset(self):\n",
    "        self.matrix = [0.0] * self.n\n",
    "\n",
    "    def __getitem__(self, index):\n",
    "        return self.matrix[index]"
   ]
  },
  {
   "cell_type": "code",
   "execution_count": 12,
   "id": "b3d95e5a-7f40-4d66-9004-3b8ea1a5557e",
   "metadata": {},
   "outputs": [],
   "source": [
    "def evaluate_accuracy(net, data_iter):\n",
    "    if isinstance(net, nn.Module):\n",
    "        net.eval()\n",
    "    matrix = Accumulator(2)\n",
    "    for X, y in data_iter:\n",
    "        acc = accuracy(net(X), y)\n",
    "        matrix.add(acc, y.numel())\n",
    "    return matrix[0] / matrix[1]\n",
    "    \n",
    "\n",
    "def accuracy(y_hat, y):\n",
    "    if len(y_hat.shape) > 1 and y_hat.shape[1] > 1:\n",
    "        y_hat = y_hat.argmax(axis=1)\n",
    "    cmp = y_hat.type(y.dtype) == y\n",
    "    return float(cmp.type(y_hat.dtype).sum())"
   ]
  },
  {
   "cell_type": "code",
   "execution_count": 13,
   "id": "7d6ca2ff-f07a-4666-9482-bf2b92e43d4f",
   "metadata": {},
   "outputs": [],
   "source": [
    "class MLP(nn.Module):\n",
    "    def __init__(self, input_size):\n",
    "        assert type(input_size) == int\n",
    "        super().__init__()\n",
    "        self.linear1 = nn.Linear(input_size, 2*input_size)\n",
    "        self.relu = nn.functional.relu\n",
    "        self.linear2 = nn.Linear(2*input_size, 3*input_size)\n",
    "        self.linear3 = nn.Linear(3*input_size, 10)\n",
    "        self.dense = nn.Linear(10, 2)\n",
    "\n",
    "        self._init_parameters()\n",
    "        \n",
    "    def forward(self, X):\n",
    "        X = self.relu(self.linear1(X))\n",
    "        X = self.relu(self.linear2(X))\n",
    "        X = self.relu(self.linear3(X))\n",
    "        return self.dense(X)\n",
    "\n",
    "    def _init_parameters(self):\n",
    "        for m in self.modules():\n",
    "            if isinstance(m, nn.Linear):\n",
    "                nn.init.xavier_uniform_(m.weight)"
   ]
  },
  {
   "cell_type": "code",
   "execution_count": 14,
   "id": "e986ea81-2e10-486c-89dc-9949f142443d",
   "metadata": {},
   "outputs": [],
   "source": [
    "# mlp = nn.Sequential(nn.Linear(20, 40), nn.ReLU(), \n",
    "#                     nn.Linear(40, 80), nn.ReLU(),\n",
    "#                    nn.Linear(80, 10), nn.ReLU(),\n",
    "#                    nn.Linear(10, 2))"
   ]
  },
  {
   "cell_type": "code",
   "execution_count": 15,
   "id": "19a537d1-0ea6-409e-8461-0d768f07d8e3",
   "metadata": {},
   "outputs": [],
   "source": [
    "loss = nn.CrossEntropyLoss()"
   ]
  },
  {
   "cell_type": "code",
   "execution_count": 25,
   "id": "9105669e-a4fd-486f-a0cf-b89e76afd168",
   "metadata": {},
   "outputs": [],
   "source": [
    "def train(net, loss, train_iter, test_iter, num_epochs, lr, weight_decay):\n",
    "    train_ls = []\n",
    "    matrix = Accumulator(2)\n",
    "    if isinstance(net, nn.Module):\n",
    "        net.train()\n",
    "    optimizer = torch.optim.SGD(net.parameters(), lr=lr, weight_decay=weight_decay)\n",
    "    for epoch in range(num_epochs):\n",
    "        for X, y in train_iter:\n",
    "            optimizer.zero_grad()\n",
    "            l = loss(net(X), y)\n",
    "            l.backward()\n",
    "            optimizer.step()\n",
    "            matrix.add(l * y.numel(), y.numel())\n",
    "        acc = evaluate_accuracy(net, test_iter)\n",
    "        if epoch % 5 == 0:\n",
    "            train_ls.append([acc, matrix[0] / matrix[1]])\n",
    "        matrix.reset()\n",
    "    return train_ls"
   ]
  },
  {
   "cell_type": "code",
   "execution_count": 27,
   "id": "36aeff01-d13d-4f28-8846-d3c784e82827",
   "metadata": {},
   "outputs": [
    {
     "data": {
      "text/plain": [
       "[[0.6625766871165644, 0.6649495033132511],\n",
       " [0.7335122699386503, 0.5980349946890554],\n",
       " [0.7484662576687117, 0.5670015602513604],\n",
       " [0.7691717791411042, 0.5477840894935752],\n",
       " [0.7776073619631901, 0.5341466816890481],\n",
       " [0.7818251533742331, 0.5234528119792664],\n",
       " [0.7894938650306749, 0.5146653785496262],\n",
       " [0.7868098159509203, 0.507306529288639],\n",
       " [0.7910276073619632, 0.5010755818790908],\n",
       " [0.7921779141104295, 0.49573198830701076]]"
      ]
     },
     "execution_count": 27,
     "metadata": {},
     "output_type": "execute_result"
    }
   ],
   "source": [
    "mlp = MLP(14)\n",
    "train(mlp, loss, train_iter, test_iter, 50, 0.005, 1e-4)"
   ]
  },
  {
   "cell_type": "code",
   "execution_count": null,
   "id": "33074781-1b3e-4624-ba53-d06bcc1ea466",
   "metadata": {},
   "outputs": [],
   "source": []
  }
 ],
 "metadata": {
  "kernelspec": {
   "display_name": "Python 3 (ipykernel)",
   "language": "python",
   "name": "python3"
  },
  "language_info": {
   "codemirror_mode": {
    "name": "ipython",
    "version": 3
   },
   "file_extension": ".py",
   "mimetype": "text/x-python",
   "name": "python",
   "nbconvert_exporter": "python",
   "pygments_lexer": "ipython3",
   "version": "3.10.6"
  }
 },
 "nbformat": 4,
 "nbformat_minor": 5
}
