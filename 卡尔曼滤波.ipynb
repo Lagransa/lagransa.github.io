{
 "cells": [
  {
   "cell_type": "code",
   "execution_count": 3,
   "id": "8193a977-498a-4379-8514-782535b3bcef",
   "metadata": {},
   "outputs": [],
   "source": [
    "import torch\n",
    "from torch import nn\n",
    "from torch.utils.data import dataset as Dataset\n",
    "from torch.utils.data import dataloader as DataLoader\n",
    "from torchvision import transforms\n",
    "from torchvision import datasets\n",
    "import sklearn\n",
    "import numpy as np\n",
    "import pandas as pd\n",
    "from matplotlib import pyplot as plt\n",
    "import seaborn as sns"
   ]
  },
  {
   "cell_type": "code",
   "execution_count": null,
   "id": "0c90bb3b-a4a5-4b01-bb17-e7e30a3a9073",
   "metadata": {},
   "outputs": [],
   "source": [
    "def prediction(A, x00, B, u11, P00, Q):\n",
    "    x_hat10 = np.dot(A, x00) + np.dot(B, u11)\n",
    "    P10 = "
   ]
  }
 ],
 "metadata": {
  "kernelspec": {
   "display_name": "Python 3 (ipykernel)",
   "language": "python",
   "name": "python3"
  },
  "language_info": {
   "codemirror_mode": {
    "name": "ipython",
    "version": 3
   },
   "file_extension": ".py",
   "mimetype": "text/x-python",
   "name": "python",
   "nbconvert_exporter": "python",
   "pygments_lexer": "ipython3",
   "version": "3.10.6"
  }
 },
 "nbformat": 4,
 "nbformat_minor": 5
}
