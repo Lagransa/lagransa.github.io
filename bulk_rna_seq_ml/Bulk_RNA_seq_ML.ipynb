{
 "cells": [
  {
   "cell_type": "code",
   "execution_count": null,
   "id": "e7b8c83a-f948-49c6-911a-ced1607e4ce6",
   "metadata": {},
   "outputs": [],
   "source": [
    "import pandas as pd\n",
    "import numpy as np\n",
    "from pathlib import Path\n",
    "from matplotlib import pyplot as plt\n",
    "from mpl_toolkits.mplot3d import Axes3D\n",
    "import sklearn\n",
    "from sklearn.model_selection import StratifiedKFold, KFold\n",
    "from sklearn.preprocessing import StandardScaler\n",
    "from sklearn.pipeline import Pipeline\n",
    "from sklearn.linear_model import ElasticNetCV\n",
    "from sklearn.feature_selection import SelectKBest, f_regression\n",
    "from sklearn.model_selection import cross_val_predict\n",
    "from sklearn.metrics import mean_absolute_error\n",
    "from sklearn.ensemble import RandomForestClassifier\n",
    "from sklearn.decomposition import PCA\n",
    "from pydeseq2.dds import DeseqDataSet\n",
    "import re\n",
    "\n",
    "data_path = 'C:/Center_bioinfo/ML_bulk_RNA_seq/'\n",
    "cts_name = 'GSE132040_counts.csv'\n",
    "meta_name = 'GSE132040_metadata.csv'\n",
    "\n",
    "counts_df = pd.read_csv(data_path + cts_name, index_col=0)\n",
    "meta_df = pd.read_csv(data_path + meta_name)\n",
    "\n",
    "name_pattern = r'\\.gencode.+'\n",
    "useless_gene_remove_pattern = r'^__.'\n",
    "\n",
    "na_sum = {}\n",
    "for i in meta_df.columns:\n",
    "    na_sum[i] = meta_df[i].isna().sum()\n",
    "\n",
    "remove_index = counts_df.index.str.match(useless_gene_remove_pattern)\n",
    "useful_counts_df = counts_df.loc[~remove_index]\n",
    "useful_counts_df_trans = useful_counts_df.T\n",
    "\n",
    "useful_counts_df_trans.index = useful_counts_df_trans.index.str.replace(name_pattern, \"\", regex=True)\n",
    "\n",
    "meta_df['sample'] = meta_df['Sample name'].astype(str).str.strip()\n",
    "\n",
    "meta_sample = pd.Index(meta_df['sample'].sort_values())\n",
    "\n",
    "na_pattern = meta_df['characteristics: age'].str.match(r'.*NA.+$')\n",
    "\n",
    "meta_df_nw = meta_df[~na_pattern].copy()\n",
    "\n",
    "valid = meta_df_nw['sample']\n",
    "align_to_count = valid[valid.isin(useful_counts_df_trans.index)]\n",
    "\n",
    "counts_final = useful_counts_df_trans.loc[align_to_count]\n",
    "\n",
    "lib_size = counts_final.sum(axis=1)\n",
    "\n",
    "cpm_counts = counts_final.divide(lib_size, axis=0) * 1e6\n",
    "\n",
    "threshold_keepgene = (cpm_counts >= 1).sum(axis=0) >= cpm_counts.shape[0] * 0.3\n",
    "\n",
    "counts_final_keeped = counts_final.loc[:, threshold_keepgene]\n",
    "\n",
    "meta_df_aligned = (\n",
    "    meta_df_nw\n",
    "    .set_index('sample')\n",
    "    .reindex(counts_final_keeped.index.astype(str).str.strip())\n",
    ")\n",
    "\n",
    "meta_df_aligned['age'] = meta_df_aligned['characteristics: age'].astype(int)\n",
    "dds = DeseqDataSet(counts=counts_final_keeped, metadata=meta_df_aligned, design=\"~1\", n_cpus=4, size_factors_fit_type='poscounts'\\\n",
    "                  , quiet=False)\n",
    "\n",
    "dds.fit_size_factors()\n",
    "dds.vst(use_design=False)\n",
    "\n",
    "vst_mat = dds.layers['vst_counts']\n",
    "vst_df = pd.DataFrame(vst_mat, index=dds.obs_names, columns=dds.var_names)\n",
    "\n",
    "need_cols = ['age']\n",
    "meta_aln = meta_df_aligned.loc[vst_df.index, [c for c in need_cols]].copy()\n",
    "y_age = meta_aln['age'].astype(float).values\n",
    "\n",
    "pca_test = PCA(random_state=40, n_components=10)\n",
    "pca_run = pca_test.fit_transform(vst_df.values)\n",
    "expl = pca_test.explained_variance_ratio_\n",
    "print([f\"Top 5 axis explained variance: {v}\" for v in expl])\n",
    "\n",
    "fig= plt.figure(figsize=(7, 7))\n",
    "ax = fig.add_subplot(111, projection='3d')\n",
    "sc = ax.scatter3D(pca_run[:, 0], pca_run[:, 1], pca_run[:, 2], s=16, c=y_age, cmap='viridis')\n",
    "ax.set_xlabel(f'PC1: {expl[0]:.2%}'); ax.set_ylabel(f'PC2: {expl[1]:.2%}'); ax.set_zlabel(f'PC3: {expl[2]:.2%}')\n",
    "cb = plt.colorbar(sc); cb.set_label('age')\n",
    "ax.set_title('PCA on VST')\n",
    "plt.tight_layout()\n",
    "plt.savefig('pca_vst', dpi=300, format='png', bbox_inches='tight')"
   ]
  },
  {
   "cell_type": "code",
   "execution_count": 1,
   "id": "6b7d783f-9aec-490a-bb69-773ee458caa7",
   "metadata": {},
   "outputs": [],
   "source": [
    "import pandas as pd\n",
    "import numpy as np\n",
    "from pathlib import Path\n",
    "from matplotlib import pyplot as plt\n",
    "from mpl_toolkits.mplot3d import Axes3D\n",
    "import sklearn\n",
    "from sklearn.model_selection import StratifiedKFold, KFold\n",
    "from sklearn.preprocessing import StandardScaler\n",
    "from sklearn.pipeline import Pipeline\n",
    "from sklearn.linear_model import ElasticNetCV\n",
    "from sklearn.feature_selection import SelectKBest, f_regression\n",
    "from sklearn.model_selection import cross_val_predict\n",
    "from sklearn.metrics import mean_absolute_error\n",
    "from sklearn.ensemble import RandomForestClassifier\n",
    "from sklearn.decomposition import PCA\n",
    "from pydeseq2.dds import DeseqDataSet\n",
    "import re"
   ]
  },
  {
   "cell_type": "code",
   "execution_count": 105,
   "id": "ddf6d2f1-ef3c-4b9f-8b57-9c5f9300490a",
   "metadata": {},
   "outputs": [],
   "source": [
    "from sklearn.model_selection import StratifiedShuffleSplit, KFold, GridSearchCV\n",
    "from sklearn.ensemble import RandomForestRegressor\n",
    "from sklearn.metrics import mean_absolute_error\n",
    "from sklearn.inspection import permutation_importance\n",
    "from scipy.stats import spearmanr"
   ]
  },
  {
   "cell_type": "code",
   "execution_count": 2,
   "id": "3b77df40-22c4-4814-bcb9-19f99833d415",
   "metadata": {},
   "outputs": [],
   "source": [
    "data_path = 'C:/Center_bioinfo/ML_bulk_RNA_seq/'\n",
    "cts_name = 'GSE132040_counts.csv'\n",
    "meta_name = 'GSE132040_metadata.csv'"
   ]
  },
  {
   "cell_type": "code",
   "execution_count": 3,
   "id": "1bf3291b-bb13-4f2f-9572-3a8e20beedf8",
   "metadata": {},
   "outputs": [],
   "source": [
    "counts_df = pd.read_csv(data_path + cts_name, index_col=0)\n",
    "meta_df = pd.read_csv(data_path + meta_name)"
   ]
  },
  {
   "cell_type": "code",
   "execution_count": 4,
   "id": "5b4b08d9-b9a0-4117-b533-97ba87bbe2fd",
   "metadata": {},
   "outputs": [],
   "source": [
    "name_pattern = r'\\.gencode.+'\n",
    "useless_gene_remove_pattern = r'^__.'"
   ]
  },
  {
   "cell_type": "code",
   "execution_count": 5,
   "id": "f6e907b6-98db-4884-9b17-823f66bb7a15",
   "metadata": {},
   "outputs": [],
   "source": [
    "na_sum = {}\n",
    "for i in meta_df.columns:\n",
    "    na_sum[i] = meta_df[i].isna().sum()"
   ]
  },
  {
   "cell_type": "code",
   "execution_count": 6,
   "id": "fa69a4fd-d731-4951-883e-278aae509d36",
   "metadata": {},
   "outputs": [
    {
     "data": {
      "text/plain": [
       "(54357, 947)"
      ]
     },
     "execution_count": 6,
     "metadata": {},
     "output_type": "execute_result"
    }
   ],
   "source": [
    "counts_df.shape"
   ]
  },
  {
   "cell_type": "code",
   "execution_count": 7,
   "id": "2bc3865b-6b35-4ef4-aeba-5cf8a2469fcc",
   "metadata": {},
   "outputs": [],
   "source": [
    "remove_index = counts_df.index.str.match(useless_gene_remove_pattern)\n",
    "useful_counts_df = counts_df.loc[~remove_index]\n",
    "useful_counts_df_trans = useful_counts_df.T"
   ]
  },
  {
   "cell_type": "code",
   "execution_count": 8,
   "id": "390f8899-acfe-42c9-ab8f-d5d12bdc42d1",
   "metadata": {},
   "outputs": [],
   "source": [
    "useful_counts_df_trans.index = useful_counts_df_trans.index.str.replace(name_pattern, \"\", regex=True)"
   ]
  },
  {
   "cell_type": "code",
   "execution_count": 9,
   "id": "7b1bb5de-c9d0-4c64-9782-5e9249ab433e",
   "metadata": {},
   "outputs": [],
   "source": [
    "meta_df['sample'] = meta_df['Sample name'].astype(str).str.strip()"
   ]
  },
  {
   "cell_type": "code",
   "execution_count": 10,
   "id": "16417b38-2112-464a-9587-125f22a8f981",
   "metadata": {},
   "outputs": [],
   "source": [
    "meta_sample = pd.Index(meta_df['sample'].sort_values())"
   ]
  },
  {
   "cell_type": "code",
   "execution_count": 11,
   "id": "9de1bdab-9cee-4af4-bc67-2c5b12cd34b6",
   "metadata": {},
   "outputs": [
    {
     "data": {
      "text/plain": [
       "947"
      ]
     },
     "execution_count": 11,
     "metadata": {},
     "output_type": "execute_result"
    }
   ],
   "source": [
    "sum(meta_sample == useful_counts_df_trans.index)"
   ]
  },
  {
   "cell_type": "code",
   "execution_count": 12,
   "id": "40297675-68b7-41cd-80ed-d3dffc267bff",
   "metadata": {},
   "outputs": [],
   "source": [
    "na_pattern = meta_df['characteristics: age'].str.match(r'.*NA.+$')"
   ]
  },
  {
   "cell_type": "code",
   "execution_count": 13,
   "id": "cf6d78d7-cab2-4ea3-bea3-a73aee04b4df",
   "metadata": {},
   "outputs": [],
   "source": [
    "meta_df_nw = meta_df[~na_pattern].copy()"
   ]
  },
  {
   "cell_type": "code",
   "execution_count": 14,
   "id": "64599d31-48d0-4072-98fa-1b6f5a1da62f",
   "metadata": {},
   "outputs": [],
   "source": [
    "valid = meta_df_nw['sample']\n",
    "align_to_count = valid[valid.isin(useful_counts_df_trans.index)]"
   ]
  },
  {
   "cell_type": "code",
   "execution_count": 15,
   "id": "2fdb6ba2-5e33-437f-a08c-d5f87fa8e1af",
   "metadata": {},
   "outputs": [
    {
     "data": {
      "text/plain": [
       "((933, 14), (947, 14))"
      ]
     },
     "execution_count": 15,
     "metadata": {},
     "output_type": "execute_result"
    }
   ],
   "source": [
    "meta_df_nw.shape, meta_df.shape"
   ]
  },
  {
   "cell_type": "code",
   "execution_count": 16,
   "id": "497d418b-8643-470e-9054-a1c15ac449d0",
   "metadata": {},
   "outputs": [],
   "source": [
    "counts_final = useful_counts_df_trans.loc[align_to_count]"
   ]
  },
  {
   "cell_type": "code",
   "execution_count": 17,
   "id": "933bd920-d7af-42b0-b29d-ae0e17b5cdb4",
   "metadata": {},
   "outputs": [],
   "source": [
    "lib_size = counts_final.sum(axis=1)"
   ]
  },
  {
   "cell_type": "code",
   "execution_count": 18,
   "id": "2436b2b5-2045-4c93-9056-e467360ca100",
   "metadata": {
    "scrolled": true
   },
   "outputs": [
    {
     "data": {
      "text/plain": [
       "A1_384Bulk_Plate1_S1       6761557\n",
       "A1_384Bulk_Plate3_S1      17808474\n",
       "A10_384Bulk_Plate1_S10     9356515\n",
       "A10_384Bulk_Plate2_S10    15999867\n",
       "A10_384Bulk_Plate3_S10     8954889\n",
       "                            ...   \n",
       "P8_384Bulk_Plate2_S368    15135375\n",
       "P8_384Bulk_Plate3_S368     8364192\n",
       "P9_384Bulk_Plate1_S369     9078519\n",
       "P9_384Bulk_Plate2_S369    13489519\n",
       "P9_384Bulk_Plate3_S369     9098980\n",
       "Length: 933, dtype: int64"
      ]
     },
     "execution_count": 18,
     "metadata": {},
     "output_type": "execute_result"
    }
   ],
   "source": [
    "lib_size"
   ]
  },
  {
   "cell_type": "code",
   "execution_count": 19,
   "id": "7d9c5203-66e1-4c22-9f65-7ea644cdf1e9",
   "metadata": {
    "scrolled": true
   },
   "outputs": [
    {
     "data": {
      "text/html": [
       "<div>\n",
       "<style scoped>\n",
       "    .dataframe tbody tr th:only-of-type {\n",
       "        vertical-align: middle;\n",
       "    }\n",
       "\n",
       "    .dataframe tbody tr th {\n",
       "        vertical-align: top;\n",
       "    }\n",
       "\n",
       "    .dataframe thead th {\n",
       "        text-align: right;\n",
       "    }\n",
       "</style>\n",
       "<table border=\"1\" class=\"dataframe\">\n",
       "  <thead>\n",
       "    <tr style=\"text-align: right;\">\n",
       "      <th>gene</th>\n",
       "      <th>0610005C13Rik</th>\n",
       "      <th>0610006L08Rik</th>\n",
       "      <th>0610009B22Rik</th>\n",
       "      <th>0610009E02Rik</th>\n",
       "      <th>0610009L18Rik</th>\n",
       "      <th>0610010F05Rik</th>\n",
       "      <th>0610010K14Rik</th>\n",
       "      <th>0610012D04Rik</th>\n",
       "      <th>0610012G03Rik</th>\n",
       "      <th>0610025J13Rik</th>\n",
       "      <th>...</th>\n",
       "      <th>n-R5s90</th>\n",
       "      <th>n-R5s92</th>\n",
       "      <th>n-R5s93</th>\n",
       "      <th>n-R5s94</th>\n",
       "      <th>n-R5s95</th>\n",
       "      <th>n-R5s96</th>\n",
       "      <th>n-R5s97</th>\n",
       "      <th>n-R5s98</th>\n",
       "      <th>n-TSaga9</th>\n",
       "      <th>n-TStga1</th>\n",
       "    </tr>\n",
       "  </thead>\n",
       "  <tbody>\n",
       "    <tr>\n",
       "      <th>A1_384Bulk_Plate1_S1</th>\n",
       "      <td>4</td>\n",
       "      <td>1</td>\n",
       "      <td>118</td>\n",
       "      <td>1</td>\n",
       "      <td>2</td>\n",
       "      <td>208</td>\n",
       "      <td>13</td>\n",
       "      <td>0</td>\n",
       "      <td>550</td>\n",
       "      <td>18</td>\n",
       "      <td>...</td>\n",
       "      <td>0</td>\n",
       "      <td>0</td>\n",
       "      <td>0</td>\n",
       "      <td>0</td>\n",
       "      <td>0</td>\n",
       "      <td>0</td>\n",
       "      <td>0</td>\n",
       "      <td>0</td>\n",
       "      <td>0</td>\n",
       "      <td>0</td>\n",
       "    </tr>\n",
       "    <tr>\n",
       "      <th>A1_384Bulk_Plate3_S1</th>\n",
       "      <td>29</td>\n",
       "      <td>7</td>\n",
       "      <td>238</td>\n",
       "      <td>11</td>\n",
       "      <td>37</td>\n",
       "      <td>570</td>\n",
       "      <td>123</td>\n",
       "      <td>2</td>\n",
       "      <td>593</td>\n",
       "      <td>12</td>\n",
       "      <td>...</td>\n",
       "      <td>4</td>\n",
       "      <td>0</td>\n",
       "      <td>1</td>\n",
       "      <td>0</td>\n",
       "      <td>5</td>\n",
       "      <td>0</td>\n",
       "      <td>1</td>\n",
       "      <td>0</td>\n",
       "      <td>0</td>\n",
       "      <td>5</td>\n",
       "    </tr>\n",
       "    <tr>\n",
       "      <th>A10_384Bulk_Plate1_S10</th>\n",
       "      <td>8</td>\n",
       "      <td>9</td>\n",
       "      <td>118</td>\n",
       "      <td>8</td>\n",
       "      <td>17</td>\n",
       "      <td>546</td>\n",
       "      <td>39</td>\n",
       "      <td>6</td>\n",
       "      <td>284</td>\n",
       "      <td>6</td>\n",
       "      <td>...</td>\n",
       "      <td>2</td>\n",
       "      <td>0</td>\n",
       "      <td>1</td>\n",
       "      <td>0</td>\n",
       "      <td>3</td>\n",
       "      <td>0</td>\n",
       "      <td>0</td>\n",
       "      <td>5</td>\n",
       "      <td>2</td>\n",
       "      <td>5</td>\n",
       "    </tr>\n",
       "    <tr>\n",
       "      <th>A10_384Bulk_Plate2_S10</th>\n",
       "      <td>29</td>\n",
       "      <td>0</td>\n",
       "      <td>269</td>\n",
       "      <td>19</td>\n",
       "      <td>40</td>\n",
       "      <td>570</td>\n",
       "      <td>113</td>\n",
       "      <td>2</td>\n",
       "      <td>488</td>\n",
       "      <td>6</td>\n",
       "      <td>...</td>\n",
       "      <td>0</td>\n",
       "      <td>0</td>\n",
       "      <td>0</td>\n",
       "      <td>0</td>\n",
       "      <td>0</td>\n",
       "      <td>0</td>\n",
       "      <td>2</td>\n",
       "      <td>0</td>\n",
       "      <td>0</td>\n",
       "      <td>0</td>\n",
       "    </tr>\n",
       "    <tr>\n",
       "      <th>A10_384Bulk_Plate3_S10</th>\n",
       "      <td>5</td>\n",
       "      <td>23</td>\n",
       "      <td>117</td>\n",
       "      <td>16</td>\n",
       "      <td>21</td>\n",
       "      <td>291</td>\n",
       "      <td>40</td>\n",
       "      <td>4</td>\n",
       "      <td>204</td>\n",
       "      <td>18</td>\n",
       "      <td>...</td>\n",
       "      <td>1</td>\n",
       "      <td>2</td>\n",
       "      <td>1</td>\n",
       "      <td>2</td>\n",
       "      <td>4</td>\n",
       "      <td>3</td>\n",
       "      <td>2</td>\n",
       "      <td>2</td>\n",
       "      <td>0</td>\n",
       "      <td>0</td>\n",
       "    </tr>\n",
       "  </tbody>\n",
       "</table>\n",
       "<p>5 rows × 54352 columns</p>\n",
       "</div>"
      ],
      "text/plain": [
       "gene                    0610005C13Rik  0610006L08Rik  0610009B22Rik  \\\n",
       "A1_384Bulk_Plate1_S1                4              1            118   \n",
       "A1_384Bulk_Plate3_S1               29              7            238   \n",
       "A10_384Bulk_Plate1_S10              8              9            118   \n",
       "A10_384Bulk_Plate2_S10             29              0            269   \n",
       "A10_384Bulk_Plate3_S10              5             23            117   \n",
       "\n",
       "gene                    0610009E02Rik  0610009L18Rik  0610010F05Rik  \\\n",
       "A1_384Bulk_Plate1_S1                1              2            208   \n",
       "A1_384Bulk_Plate3_S1               11             37            570   \n",
       "A10_384Bulk_Plate1_S10              8             17            546   \n",
       "A10_384Bulk_Plate2_S10             19             40            570   \n",
       "A10_384Bulk_Plate3_S10             16             21            291   \n",
       "\n",
       "gene                    0610010K14Rik  0610012D04Rik  0610012G03Rik  \\\n",
       "A1_384Bulk_Plate1_S1               13              0            550   \n",
       "A1_384Bulk_Plate3_S1              123              2            593   \n",
       "A10_384Bulk_Plate1_S10             39              6            284   \n",
       "A10_384Bulk_Plate2_S10            113              2            488   \n",
       "A10_384Bulk_Plate3_S10             40              4            204   \n",
       "\n",
       "gene                    0610025J13Rik  ...  n-R5s90  n-R5s92  n-R5s93  \\\n",
       "A1_384Bulk_Plate1_S1               18  ...        0        0        0   \n",
       "A1_384Bulk_Plate3_S1               12  ...        4        0        1   \n",
       "A10_384Bulk_Plate1_S10              6  ...        2        0        1   \n",
       "A10_384Bulk_Plate2_S10              6  ...        0        0        0   \n",
       "A10_384Bulk_Plate3_S10             18  ...        1        2        1   \n",
       "\n",
       "gene                    n-R5s94  n-R5s95  n-R5s96  n-R5s97  n-R5s98  n-TSaga9  \\\n",
       "A1_384Bulk_Plate1_S1          0        0        0        0        0         0   \n",
       "A1_384Bulk_Plate3_S1          0        5        0        1        0         0   \n",
       "A10_384Bulk_Plate1_S10        0        3        0        0        5         2   \n",
       "A10_384Bulk_Plate2_S10        0        0        0        2        0         0   \n",
       "A10_384Bulk_Plate3_S10        2        4        3        2        2         0   \n",
       "\n",
       "gene                    n-TStga1  \n",
       "A1_384Bulk_Plate1_S1           0  \n",
       "A1_384Bulk_Plate3_S1           5  \n",
       "A10_384Bulk_Plate1_S10         5  \n",
       "A10_384Bulk_Plate2_S10         0  \n",
       "A10_384Bulk_Plate3_S10         0  \n",
       "\n",
       "[5 rows x 54352 columns]"
      ]
     },
     "execution_count": 19,
     "metadata": {},
     "output_type": "execute_result"
    }
   ],
   "source": [
    "counts_final.head()"
   ]
  },
  {
   "cell_type": "code",
   "execution_count": 20,
   "id": "1abf6a0f-9263-4d7b-9995-63eb807cc2e6",
   "metadata": {
    "scrolled": true
   },
   "outputs": [],
   "source": [
    "cpm_counts = counts_final.divide(lib_size, axis=0) * 1e6"
   ]
  },
  {
   "cell_type": "code",
   "execution_count": 21,
   "id": "e71c09da-14a9-4fb9-b2dc-9cd4ac455a38",
   "metadata": {},
   "outputs": [],
   "source": [
    "#过滤在低于30%的样本中表达倍数低于1的基因，这里的写法是留下的，即在超过30%的样本中表达量超过1的基因\n",
    "threshold_keepgene = (cpm_counts >= 1).sum(axis=0) >= cpm_counts.shape[0] * 0.3"
   ]
  },
  {
   "cell_type": "code",
   "execution_count": 22,
   "id": "6163ea21-8967-4cfb-a8d8-63690b9c217b",
   "metadata": {},
   "outputs": [],
   "source": [
    "counts_final_keeped = counts_final.loc[:, threshold_keepgene]"
   ]
  },
  {
   "cell_type": "code",
   "execution_count": 23,
   "id": "14246094-6a23-4714-9a7b-7a6dbfc3ee22",
   "metadata": {},
   "outputs": [
    {
     "data": {
      "text/plain": [
       "Index(['A1_384Bulk_Plate1_S1', 'A1_384Bulk_Plate3_S1',\n",
       "       'A10_384Bulk_Plate1_S10', 'A10_384Bulk_Plate2_S10',\n",
       "       'A10_384Bulk_Plate3_S10', 'A11_384Bulk_Plate1_S11',\n",
       "       'A11_384Bulk_Plate2_S11', 'A11_384Bulk_Plate3_S11',\n",
       "       'A12_384Bulk_Plate1_S12', 'A12_384Bulk_Plate2_S12',\n",
       "       ...\n",
       "       'P6_384Bulk_Plate3_S366', 'P7_384Bulk_Plate1_S367',\n",
       "       'P7_384Bulk_Plate2_S367', 'P7_384Bulk_Plate3_S367',\n",
       "       'P8_384Bulk_Plate1_S368', 'P8_384Bulk_Plate2_S368',\n",
       "       'P8_384Bulk_Plate3_S368', 'P9_384Bulk_Plate1_S369',\n",
       "       'P9_384Bulk_Plate2_S369', 'P9_384Bulk_Plate3_S369'],\n",
       "      dtype='object', length=933)"
      ]
     },
     "execution_count": 23,
     "metadata": {},
     "output_type": "execute_result"
    }
   ],
   "source": [
    "counts_final_keeped.index"
   ]
  },
  {
   "cell_type": "code",
   "execution_count": 42,
   "id": "9292fbaf-3f03-4349-b1c1-6e6b87f692e4",
   "metadata": {},
   "outputs": [],
   "source": [
    "meta_df_aligned = (\n",
    "    meta_df_nw\n",
    "    .set_index('sample')\n",
    "    .reindex(counts_final_keeped.index.astype(str).str.strip())\n",
    ")"
   ]
  },
  {
   "cell_type": "code",
   "execution_count": 37,
   "id": "4298b365-dfab-4ff0-8831-fe7a6f224cd3",
   "metadata": {},
   "outputs": [
    {
     "data": {
      "text/plain": [
       "(933, 21764)"
      ]
     },
     "execution_count": 37,
     "metadata": {},
     "output_type": "execute_result"
    }
   ],
   "source": [
    "counts_final_keeped.shape"
   ]
  },
  {
   "cell_type": "code",
   "execution_count": 44,
   "id": "e5178bc7-e30f-43b5-924f-c67aaa40e55f",
   "metadata": {
    "scrolled": true
   },
   "outputs": [],
   "source": [
    "meta_df_aligned['age'] = meta_df_aligned['characteristics: age'].astype(int)\n",
    "#meta_df_nw的index也需要变成样本名\n",
    "# meta_df_nw = meta_df_nw.set_index('sample')\n",
    "#再试试索引，成了，但要注意多0矩阵下，fit_type要选poscounts（另一个算不出来）\n",
    "dds = DeseqDataSet(counts=counts_final_keeped, metadata=meta_df_aligned, design=\"~1\", n_cpus=4, size_factors_fit_type='poscounts'\\\n",
    "                  , quiet=False)"
   ]
  },
  {
   "cell_type": "code",
   "execution_count": 47,
   "id": "c900dd2e-a42c-46c0-bd41-fcaae394986a",
   "metadata": {},
   "outputs": [
    {
     "data": {
      "text/plain": [
       "pydeseq2.dds.DeseqDataSet"
      ]
     },
     "execution_count": 47,
     "metadata": {},
     "output_type": "execute_result"
    }
   ],
   "source": [
    "type(dds)"
   ]
  },
  {
   "cell_type": "code",
   "execution_count": 45,
   "id": "30960c12-631e-4fb3-abcd-03676aafbeda",
   "metadata": {},
   "outputs": [
    {
     "name": "stderr",
     "output_type": "stream",
     "text": [
      "Fitting size factors...\n"
     ]
    },
    {
     "name": "stdout",
     "output_type": "stream",
     "text": [
      "Using None as control genes, passed at DeseqDataSet initialization\n"
     ]
    },
    {
     "name": "stderr",
     "output_type": "stream",
     "text": [
      "... done in 0.65 seconds.\n",
      "\n"
     ]
    }
   ],
   "source": [
    "dds.fit_size_factors()"
   ]
  },
  {
   "cell_type": "code",
   "execution_count": 46,
   "id": "536b8391-6419-42a2-9975-f33b598e9a52",
   "metadata": {},
   "outputs": [
    {
     "name": "stdout",
     "output_type": "stream",
     "text": [
      "Fit type used for VST : parametric\n",
      "Using None as control genes, passed at DeseqDataSet initialization\n"
     ]
    },
    {
     "name": "stderr",
     "output_type": "stream",
     "text": [
      "Fitting size factors...\n",
      "... done in 0.64 seconds.\n",
      "\n",
      "Fitting dispersions...\n",
      "... done in 14.78 seconds.\n",
      "\n",
      "D:\\Code_software\\Python3.10\\lib\\site-packages\\pydeseq2\\dds.py:430: UserWarning: The dispersion trend curve fitting did not converge. Switching to a mean-based dispersion trend.\n",
      "  self._fit_parametric_dispersion_trend(vst=True)\n"
     ]
    }
   ],
   "source": [
    "dds.vst(use_design=False)"
   ]
  },
  {
   "cell_type": "code",
   "execution_count": 48,
   "id": "b508e1f1-4cd5-4521-9483-cd2f63dffe57",
   "metadata": {},
   "outputs": [],
   "source": [
    "vst_mat = dds.layers['vst_counts']"
   ]
  },
  {
   "cell_type": "code",
   "execution_count": 49,
   "id": "8b25e5ea-9934-4789-a600-5c7fdb08ede2",
   "metadata": {},
   "outputs": [],
   "source": [
    "vst_df = pd.DataFrame(vst_mat, index=dds.obs_names, columns=dds.var_names)"
   ]
  },
  {
   "cell_type": "code",
   "execution_count": 50,
   "id": "234f422c-19a8-4069-881c-e6345be7210d",
   "metadata": {},
   "outputs": [],
   "source": [
    "#对齐样本并取需要的列\n",
    "need_cols = ['age']\n",
    "meta_aln = meta_df_aligned.loc[vst_df.index, [c for c in need_cols]].copy()"
   ]
  },
  {
   "cell_type": "code",
   "execution_count": 51,
   "id": "add1b140-5059-423c-be64-e31f3f1df595",
   "metadata": {},
   "outputs": [],
   "source": [
    "y_age = meta_aln['age'].astype(float).values"
   ]
  },
  {
   "cell_type": "code",
   "execution_count": 52,
   "id": "1f6ff4f7-3427-4a5f-be89-06c303d80574",
   "metadata": {},
   "outputs": [
    {
     "data": {
      "text/plain": [
       "68"
      ]
     },
     "execution_count": 52,
     "metadata": {},
     "output_type": "execute_result"
    }
   ],
   "source": [
    "(y_age >= 25).sum()"
   ]
  },
  {
   "cell_type": "code",
   "execution_count": 53,
   "id": "c2e78bd9-9cf3-4faf-a3f8-8c86012323f8",
   "metadata": {},
   "outputs": [],
   "source": [
    "pca_test = PCA(random_state=40, n_components=10)"
   ]
  },
  {
   "cell_type": "code",
   "execution_count": 54,
   "id": "c98295e9-0aeb-442e-85db-2c7497129bb4",
   "metadata": {},
   "outputs": [
    {
     "name": "stdout",
     "output_type": "stream",
     "text": [
      "['Top 5 axis explained variance: 0.25808659723616695', 'Top 5 axis explained variance: 0.13441426425014485', 'Top 5 axis explained variance: 0.08630499157841413', 'Top 5 axis explained variance: 0.06534350030987296', 'Top 5 axis explained variance: 0.03812072607471461', 'Top 5 axis explained variance: 0.03249963863673296', 'Top 5 axis explained variance: 0.029367440743681875', 'Top 5 axis explained variance: 0.021624687418803745', 'Top 5 axis explained variance: 0.01891932726750407', 'Top 5 axis explained variance: 0.01697328880654798']\n"
     ]
    }
   ],
   "source": [
    "pca_run = pca_test.fit_transform(vst_df.values)\n",
    "expl = pca_test.explained_variance_ratio_\n",
    "print([f\"Top 5 axis explained variance: {v}\" for v in expl])"
   ]
  },
  {
   "cell_type": "code",
   "execution_count": 55,
   "id": "83ccf2f1-e691-4d0f-a4a3-aeb126fed360",
   "metadata": {},
   "outputs": [
    {
     "data": {
      "text/plain": [
       "(933, 5)"
      ]
     },
     "execution_count": 55,
     "metadata": {},
     "output_type": "execute_result"
    }
   ],
   "source": [
    "#前10维坐标，每样本一个\n",
    "pca_run[:, :5].shape"
   ]
  },
  {
   "cell_type": "code",
   "execution_count": 57,
   "id": "2fa11fc0-f242-4432-8ff7-3963d2c77221",
   "metadata": {},
   "outputs": [
    {
     "data": {
      "image/png": "[encoded data removed]",
      "text/plain": [
       "<Figure size 700x700 with 2 Axes>"
      ]
     },
     "metadata": {},
     "output_type": "display_data"
    }
   ],
   "source": [
    "fig= plt.figure(figsize=(7, 7))\n",
    "ax = fig.add_subplot(111, projection='3d')\n",
    "sc = ax.scatter3D(pca_run[:, 0], pca_run[:, 1], pca_run[:, 2], s=16, c=y_age, cmap='viridis')\n",
    "ax.set_xlabel(f'PC1: {expl[0]:.2%}'); ax.set_ylabel(f'PC2: {expl[1]:.2%}'); ax.set_zlabel(f'PC3: {expl[2]:.2%}')\n",
    "cb = plt.colorbar(sc); cb.set_label('age')\n",
    "ax.set_title('PCA on VST')\n",
    "plt.tight_layout()\n",
    "plt.savefig('pca_vst', dpi=300, format='png', bbox_inches='tight')"
   ]
  },
  {
   "cell_type": "code",
   "execution_count": 112,
   "id": "749425c5-86dc-444a-a5e6-3b9dd331072b",
   "metadata": {},
   "outputs": [],
   "source": [
    "X_df, gene = vst_df, vst_df.columns.to_numpy()"
   ]
  },
  {
   "cell_type": "code",
   "execution_count": 116,
   "id": "afa2b393-4ce7-428b-9d1e-3708c8cb8261",
   "metadata": {
    "scrolled": true
   },
   "outputs": [],
   "source": [
    "y = meta_df_aligned['age']"
   ]
  },
  {
   "cell_type": "code",
   "execution_count": 121,
   "id": "7f2006dd-ec3c-4f2e-a168-658c032573a9",
   "metadata": {},
   "outputs": [],
   "source": [
    "from sklearn.base import BaseEstimator, TransformerMixin, clone\n",
    "from sklearn.model_selection import GridSearchCV, cross_validate\n",
    "from sklearn.pipeline import Pipeline\n",
    "from sklearn.ensemble import RandomForestClassifier\n",
    "from sklearn.metrics import classification_report, balanced_accuracy_score\n",
    "from sklearn.inspection import permutation_importance\n",
    "from sklearn.model_selection import StratifiedShuffleSplit, RepeatedStratifiedKFold, StratifiedKFold"
   ]
  },
  {
   "cell_type": "code",
   "execution_count": 126,
   "id": "c1e56040-a72c-4766-8b05-8472e446261d",
   "metadata": {},
   "outputs": [
    {
     "name": "stdout",
     "output_type": "stream",
     "text": [
      "102\n",
      "98\n",
      "99\n",
      "102\n",
      "101\n",
      "101\n",
      "99\n",
      "97\n",
      "66\n",
      "68\n"
     ]
    }
   ],
   "source": [
    "label_ls = [1, 3, 6, 9, 12, 15, 18, 21, 24, 27]\n",
    "for i in label_ls:\n",
    "    print(sum(meta_df_aligned['age'] == i))"
   ]
  },
  {
   "cell_type": "code",
   "execution_count": 125,
   "id": "ab2a0b32-e096-4534-bd14-9e5d38f3953d",
   "metadata": {},
   "outputs": [
    {
     "name": "stdout",
     "output_type": "stream",
     "text": [
      "[Nested CV] bACC: 0.2979 ± 0.0269 | ACC: 0.3050 ± 0.0284\n",
      "Fitting 5 folds for each of 405 candidates, totalling 2025 fits\n",
      "[Best Params] {'pear__k': 50, 'rf__max_depth': 5, 'rf__max_features': 0.3, 'rf__min_samples_leaf': 3, 'var__k': 20000}\n",
      "[Test] ACC=0.3316 | bACC=0.3320\n",
      "              precision    recall  f1-score   support\n",
      "\n",
      "           1     0.4545    0.5000    0.4762        20\n",
      "           3     0.2895    0.5500    0.3793        20\n",
      "           6     0.3200    0.4000    0.3556        20\n",
      "           9     0.2000    0.0476    0.0769        21\n",
      "          12     0.4167    0.2500    0.3125        20\n",
      "          15     0.2000    0.2500    0.2222        20\n",
      "          18     0.3125    0.5000    0.3846        20\n",
      "          21     0.2500    0.1579    0.1935        19\n",
      "          24     0.4000    0.3077    0.3478        13\n",
      "          27     0.8333    0.3571    0.5000        14\n",
      "\n",
      "    accuracy                         0.3316       187\n",
      "   macro avg     0.3677    0.3320    0.3249       187\n",
      "weighted avg     0.3512    0.3316    0.3178       187\n",
      "\n",
      "[导出] feature_importance_gini.csv\n",
      "[导出] feature_importance_permutation.csv\n"
     ]
    }
   ],
   "source": [
    "class TopKVariance(BaseEstimator, TransformerMixin):\n",
    "    def __init__(self, k=10000):\n",
    "        self.k = k\n",
    "\n",
    "    def fit(self, X, y=None):\n",
    "        X = np.asarray(X)\n",
    "        p = X.shape[1]\n",
    "        if self.k in (None, 'all') or self.k >= p:\n",
    "            self.indices_ = np.arange(p)\n",
    "        else:\n",
    "            k = int(max(1, min(self.k, p)))\n",
    "            var = X.var(axis=0)\n",
    "            self.indices_ = np.argsort(-var)[:k]\n",
    "        self.support_ = np.zeros(X.shape[1], dtype=bool)\n",
    "        self.support_[self.indices_] = True\n",
    "        return self\n",
    "\n",
    "    def transform(self, X):\n",
    "        return np.asarray(X)[:, self.indices_]\n",
    "\n",
    "    def get_support(self):\n",
    "        return self.support_\n",
    "\n",
    "# -----------------------------\n",
    "# 2) 组件：Pearson One-vs-Rest 选择器（取每列在各类的|r|最大值）\n",
    "# -----------------------------\n",
    "class PearsonOVRSelector(BaseEstimator, TransformerMixin):\n",
    "    def __init__(self, k=200):\n",
    "        self.k = k\n",
    "\n",
    "    def fit(self, X, y):\n",
    "        X = np.asarray(X, dtype=float)\n",
    "        y = np.asarray(y)\n",
    "        n, p = X.shape\n",
    "        classes = np.unique(y)\n",
    "        Xc = X - X.mean(axis=0, keepdims=True)\n",
    "        x_denom = np.sqrt((Xc ** 2).sum(axis=0))\n",
    "        scores = np.zeros(p, dtype=float)\n",
    "\n",
    "        for c in classes:\n",
    "            yc = (y == c).astype(float)\n",
    "            yc = yc - yc.mean()\n",
    "            y_denom = np.sqrt((yc ** 2).sum())\n",
    "            # 避免除零\n",
    "            denom = x_denom * (y_denom + 1e-12)\n",
    "            r = (Xc.T @ yc) / (denom + 1e-12)  # 形状: (p,)\n",
    "            scores = np.maximum(scores, np.abs(r))\n",
    "\n",
    "        self.scores_ = np.nan_to_num(scores, nan=0.0, posinf=0.0, neginf=0.0)\n",
    "\n",
    "        # 选前k\n",
    "        if self.k in (None, 'all') or self.k >= p:\n",
    "            self.indices_ = np.arange(p)\n",
    "        else:\n",
    "            k = int(max(1, min(self.k, p)))\n",
    "            self.indices_ = np.argsort(-self.scores_)[:k]\n",
    "\n",
    "        self.support_ = np.zeros(p, dtype=bool)\n",
    "        self.support_[self.indices_] = True\n",
    "        return self\n",
    "\n",
    "    def transform(self, X):\n",
    "        return np.asarray(X)[:, self.indices_]\n",
    "\n",
    "    def get_support(self):\n",
    "        return self.support_\n",
    "\n",
    "# -----------------------------\n",
    "# 3) 一次性切盲测集（分层）\n",
    "# -----------------------------\n",
    "sss = StratifiedShuffleSplit(n_splits=1, test_size=0.2, random_state=42)\n",
    "train_idx, test_idx = next(sss.split(X_df.values, y))\n",
    "X_train, X_test = X_df.values[train_idx], X_df.values[test_idx]\n",
    "y_train, y_test = np.asarray(y)[train_idx], np.asarray(y)[test_idx]\n",
    "feature_names = X_df.columns.to_numpy()\n",
    "\n",
    "# -----------------------------\n",
    "# 4) Pipeline：var 预筛 -> Pearson筛K -> RF(10分类)\n",
    "# -----------------------------\n",
    "pipe = Pipeline(steps=[\n",
    "    ('var', TopKVariance(k=10000)),      # 会被搜索\n",
    "    ('pear', PearsonOVRSelector(k=200)), # 会被搜索\n",
    "    ('rf', RandomForestClassifier(\n",
    "        n_estimators=50,                 # 固定50棵树\n",
    "        random_state=42,\n",
    "        n_jobs=5\n",
    "    ))\n",
    "])\n",
    "\n",
    "# 约束：最大深度<=5；其他可适度搜索\n",
    "param_grid = {\n",
    "    'var__k':   [20000, 10000, 5000],           # 视数据规模调整\n",
    "    'pear__k':  [50, 100, 500, 1000, 5000],     # K 一起搜\n",
    "    'rf__max_depth': [3, 4, 5],                  # 不超过5\n",
    "    'rf__min_samples_leaf': [1, 3, 5],\n",
    "    'rf__max_features': ['sqrt', 0.3, 0.5],\n",
    "    # 可选：考虑不平衡时\n",
    "    # 'rf__class_weight': [None, 'balanced']\n",
    "}\n",
    "\n",
    "# 内层/外层CV：嵌套 5×2\n",
    "inner = StratifiedKFold(n_splits=5, shuffle=True, random_state=7)\n",
    "outer = RepeatedStratifiedKFold(n_splits=5, n_repeats=2, random_state=24)\n",
    "\n",
    "gs = GridSearchCV(\n",
    "    estimator=pipe,\n",
    "    param_grid=param_grid,\n",
    "    scoring='balanced_accuracy',   # 多分类更稳的选择，也可换 'accuracy'\n",
    "    cv=inner,\n",
    "    n_jobs=5,\n",
    "    refit=True,\n",
    "    verbose=1\n",
    ")\n",
    "\n",
    "# 外层评估“整条流程”的泛化性能\n",
    "cv_res = cross_validate(\n",
    "    clone(gs), X_train, y_train,\n",
    "    cv=outer, n_jobs=5,\n",
    "    scoring=['balanced_accuracy', 'accuracy'],\n",
    "    return_estimator=False\n",
    ")\n",
    "print(\"[Nested CV] bACC: %.4f ± %.4f | ACC: %.4f ± %.4f\" % (\n",
    "    cv_res['test_balanced_accuracy'].mean(), cv_res['test_balanced_accuracy'].std(),\n",
    "    cv_res['test_accuracy'].mean(),          cv_res['test_accuracy'].std()\n",
    "))\n",
    "\n",
    "# 在全量 train 上根据内层规则重训最佳流程\n",
    "gs.fit(X_train, y_train)\n",
    "best_pipe = gs.best_estimator_\n",
    "print(\"[Best Params]\", gs.best_params_)\n",
    "\n",
    "# 盲测集一次性评估\n",
    "y_pred = best_pipe.predict(X_test)\n",
    "print(\"[Test] ACC=%.4f | bACC=%.4f\" % (\n",
    "    (y_pred == y_test).mean(), balanced_accuracy_score(y_test, y_pred)\n",
    "))\n",
    "print(classification_report(y_test, y_pred, digits=4))\n",
    "\n",
    "# -----------------------------\n",
    "# 5) 输出特征重要度排序（两版）\n",
    "# -----------------------------\n",
    "# 先把最终入模特征的“原始列名”找回\n",
    "var_mask = best_pipe.named_steps['var'].get_support()\n",
    "pear_mask_local = best_pipe.named_steps['pear'].get_support()\n",
    "final_mask = np.zeros_like(var_mask, dtype=bool)\n",
    "final_mask[np.where(var_mask)[0][pear_mask_local]] = True\n",
    "final_features = feature_names[final_mask]\n",
    "\n",
    "# (a) 模型内置的重要度（Gini）\n",
    "gini_imp = best_pipe.named_steps['rf'].feature_importances_\n",
    "imp_gini_df = pd.DataFrame({\n",
    "    'feature': final_features,\n",
    "    'gini_importance': gini_imp\n",
    "}).sort_values('gini_importance', ascending=False)\n",
    "imp_gini_df.to_csv(\"feature_importance_gini.csv\", index=False)\n",
    "print(\"[导出] feature_importance_gini.csv\")\n",
    "\n",
    "# (b) 置换重要度（在盲测集上）\n",
    "# 只对\"入模后的矩阵\"做置换（更快）\n",
    "Xtest_sel = best_pipe.named_steps['pear'].transform(\n",
    "    best_pipe.named_steps['var'].transform(X_test)\n",
    ")\n",
    "pi = permutation_importance(\n",
    "    best_pipe.named_steps['rf'], Xtest_sel, y_test,\n",
    "    scoring='balanced_accuracy', n_repeats=30, random_state=42, n_jobs=-1\n",
    ")\n",
    "imp_perm_df = pd.DataFrame({\n",
    "    'feature': final_features,\n",
    "    'perm_importance_mean': pi.importances_mean,\n",
    "    'perm_importance_std':  pi.importances_std\n",
    "}).sort_values('perm_importance_mean', ascending=False)\n",
    "imp_perm_df.to_csv(\"feature_importance_permutation.csv\", index=False)\n",
    "print(\"[导出] feature_importance_permutation.csv\")"
   ]
  },
  {
   "cell_type": "code",
   "execution_count": 98,
   "id": "a41e5930-76b4-4735-acb8-c48b16503a2a",
   "metadata": {},
   "outputs": [
    {
     "name": "stdout",
     "output_type": "stream",
     "text": [
      "[外折1] MAE=4.635|params={'max_depth': None, 'max_features': 0.5, 'min_samples_leaf': 3}\n",
      "[外折2] MAE=4.543|params={'max_depth': 10, 'max_features': 0.5, 'min_samples_leaf': 1}\n",
      "[外折3] MAE=4.597|params={'max_depth': None, 'max_features': 0.5, 'min_samples_leaf': 1}\n",
      "[外折4] MAE=5.168|params={'max_depth': None, 'max_features': 0.5, 'min_samples_leaf': 3}\n",
      "[外折5] MAE=4.795|params={'max_depth': 10, 'max_features': 0.5, 'min_samples_leaf': 1}\n",
      "[外层CV]平均MAE:4.748 ± 0.226\n"
     ]
    }
   ],
   "source": []
  },
  {
   "cell_type": "code",
   "execution_count": 102,
   "id": "f5b7c317-afa7-41ba-9970-85b1ca12c5d3",
   "metadata": {},
   "outputs": [
    {
     "name": "stdout",
     "output_type": "stream",
     "text": [
      "[导出] gene_candidates_ranked.csv\n",
      "   K_genes    CV_MAE\n",
      "0       10  5.011790\n",
      "1       20  4.366371\n",
      "2       50  4.161671\n",
      "3      100  4.206779\n",
      "4      200  4.302808\n",
      "5      400  4.458761\n",
      "6      800  4.659107\n",
      "7     1200  4.786746\n",
      "8     2000  4.995982\n",
      "[选择] best_K=50\n",
      "[盲测集] MAE=3.899 (单位与age一致，应该是月)\n",
      "[导出] final_gene_panel.csv\n"
     ]
    }
   ],
   "source": []
  },
  {
   "cell_type": "code",
   "execution_count": 110,
   "id": "8ada1c43-333b-4761-9711-e6f98b738928",
   "metadata": {},
   "outputs": [
    {
     "name": "stdout",
     "output_type": "stream",
     "text": [
      "[保存] importance_CV_top10.png\n"
     ]
    }
   ],
   "source": [
    "n_bins = 5\n",
    "y_bins = pd.qcut(y_age, q=n_bins, labels=False, duplicates='drop')\n",
    "sss= StratifiedShuffleSplit(n_splits=1, test_size=0.2, random_state=42)\n",
    "train_idx, test_idx = next(sss.split(vst_df.values, y_bins))\n",
    "\n",
    "\n",
    "\n",
    "x_all = vst_df.values\n",
    "gene_all = vst_df.columns.to_numpy()\n",
    "\n",
    "\n",
    "\n",
    "x_train, x_test = x_all[train_idx], x_all[test_idx]\n",
    "y_train, y_test = y_age[train_idx], y_age[test_idx]\n",
    "\n",
    "\n",
    "gene_var = x_train.var(axis=0)\n",
    "topKvar = 10000\n",
    "keep_idx0 = np.argsort(-gene_var)[:topKvar]\n",
    "\n",
    "\n",
    "\n",
    "x_train, x_test = x_train[:, keep_idx0], x_test[:, keep_idx0]\n",
    "\n",
    "\n",
    "\n",
    "gene_keeped = gene_all[keep_idx0]\n",
    "outer_cv = KFold(n_splits=5, shuffle=True, random_state=42)\n",
    "\n",
    "\n",
    "\n",
    "rf_base = RandomForestRegressor(\n",
    "    n_estimators=600,\n",
    "    random_state=42,\n",
    "    n_jobs=-1,\n",
    "    oob_score=False\n",
    ")\n",
    "\n",
    "\n",
    "\n",
    "\n",
    "param_grid = {\n",
    "    \"max_depth\": [None, 10, 14],\n",
    "    \"min_samples_leaf\": [1, 3, 5],\n",
    "    \"max_features\": [\"sqrt\", 0.2, 0.5]\n",
    "}\n",
    "\n",
    "\n",
    "\n",
    "outer_fold_mae = []\n",
    "imp_accumulator = np.zeros(x_train.shape[1], dtype=float)\n",
    "select_freq = np.zeros(x_train.shape[1], dtype=int)\n",
    "\n",
    "\n",
    "\n",
    "top_each_fold = 300\n",
    "\n",
    "\n",
    "\n",
    "for fold, (tr_idx, val_idx) in enumerate(outer_cv.split(x_train, y_train), 1):\n",
    "    x_tr, x_val = x_train[tr_idx], x_train[val_idx]\n",
    "    y_tr, y_val = y_train[tr_idx], y_train[val_idx]\n",
    "    \n",
    "    gs = GridSearchCV(\n",
    "        rf_base, param_grid,\n",
    "        scoring=\"neg_mean_absolute_error\",\n",
    "        cv=3, n_jobs=-1, verbose=0\n",
    "    )\n",
    "    gs.fit(x_tr, y_tr)\n",
    "    best = gs.best_estimator_\n",
    "\n",
    "    y_pred = best.predict(x_val)\n",
    "    mae = mean_absolute_error(y_val, y_pred)\n",
    "    outer_fold_mae.append(mae)\n",
    "    print(f\"[外折{fold}] MAE={mae:.3f}|params={gs.best_params_}\")\n",
    "    \n",
    "    pi = permutation_importance(best, x_val, y_val, n_repeats=10, random_state=42, n_jobs=-1)\n",
    "    imp_accumulator += pi.importances_mean\n",
    "\n",
    "    top_idx = np.argsort(-pi.importances_mean)[:top_each_fold]\n",
    "    select_freq[top_idx] += 1\n",
    "print(f\"[外层CV]平均MAE:{np.mean(outer_fold_mae):.3f} ± {np.std(outer_fold_mae):.3f}\")\n",
    "\n",
    "\n",
    "\n",
    "rank_idx = np.argsort(-imp_accumulator)  # 大到小\n",
    "genes_ranked = gene_keeped[rank_idx]\n",
    "freq_ranked  = select_freq[rank_idx]\n",
    "imp_ranked   = imp_accumulator[rank_idx]\n",
    "\n",
    "gene_rank_df = pd.DataFrame({\n",
    "    \"gene\": genes_ranked,\n",
    "    \"stability_freq\": freq_ranked,         # 外折Top-N出现次数（0~5）\n",
    "    \"perm_importance_mean\": imp_ranked\n",
    "})\n",
    "gene_rank_df.to_csv(\"gene_candidates_ranked.csv\", index=False)\n",
    "print(\"[导出] gene_candidates_ranked.csv\")\n",
    "\n",
    "# 评估不同K的表现，用训练集做5折CV（不再调参，只评估面板大小）\n",
    "Ks = [10, 20, 50, 100, 200, 400, 800, 1200, 2000]\n",
    "mae_vs_K = []\n",
    "for K in Ks:\n",
    "    sel_genes = genes_ranked[:K]\n",
    "    sel_mask = np.isin(gene_keeped, sel_genes)\n",
    "    X_sel = x_train[:, sel_mask]\n",
    "\n",
    "    model = RandomForestRegressor(\n",
    "        n_estimators=600,\n",
    "        max_depth=14,\n",
    "        min_samples_leaf=3,\n",
    "        max_features=\"sqrt\",\n",
    "        random_state=42,\n",
    "        n_jobs=-1\n",
    "    )\n",
    "\n",
    "    cv_mae = []\n",
    "    for tr_idx, val_idx in outer_cv.split(X_sel, y_train):\n",
    "        model.fit(X_sel[tr_idx], y_train[tr_idx])\n",
    "        pred = model.predict(X_sel[val_idx])\n",
    "        cv_mae.append(mean_absolute_error(y_train[val_idx], pred))\n",
    "    mae_vs_K.append((K, float(np.mean(cv_mae))))\n",
    "\n",
    "mae_vs_K_df = pd.DataFrame(mae_vs_K, columns=[\"K_genes\", \"CV_MAE\"])\n",
    "mae_vs_K_df.to_csv(\"performance_vs_K.csv\", index=False)\n",
    "print(mae_vs_K_df)\n",
    "\n",
    "\n",
    "best_K = int(mae_vs_K_df.loc[mae_vs_K_df['CV_MAE'].idxmin(), 'K_genes'])\n",
    "print(f\"[选择] best_K={best_K}\")\n",
    "\n",
    "final_genes = genes_ranked[:best_K]\n",
    "final_mask_train = np.isin(gene_keeped, final_genes)\n",
    "\n",
    "X_train_final = x_train[:, final_mask_train]\n",
    "X_test_final  = x_test[:,  final_mask_train]\n",
    "\n",
    "final_model = RandomForestRegressor(\n",
    "    n_estimators=800,\n",
    "    max_depth=14,\n",
    "    min_samples_leaf=3,\n",
    "    max_features=\"sqrt\",\n",
    "    random_state=42,\n",
    "    n_jobs=-1\n",
    ")\n",
    "final_model.fit(X_train_final, y_train)\n",
    "test_pred = final_model.predict(X_test_final)\n",
    "test_mae = mean_absolute_error(y_test, test_pred)\n",
    "print(f\"[盲测集] MAE={test_mae:.3f} (单位与age一致，应该是月)\")\n",
    "\n",
    "# 导出最终panel\n",
    "pd.Series(final_genes, name=\"gene\").to_csv(\"final_gene_panel.csv\", index=False)\n",
    "print(\"[导出] final_gene_panel.csv\")\n",
    "\n",
    "\n",
    "\n",
    "pi2 = permutation_importance(\n",
    "    final_model, X_test_final, y_test,\n",
    "    n_repeats=30, random_state=42, n_jobs=-1\n",
    ")\n",
    "\n",
    "imp_df = pd.DataFrame({\n",
    "    \"gene\": final_genes,\n",
    "    \"perm_importance_mean\": pi2.importances_mean,\n",
    "    \"perm_importance_std\":  pi2.importances_std\n",
    "}).sort_values(\"perm_importance_mean\", ascending=False)\n",
    "\n",
    "# 打个名次列\n",
    "imp_df[\"rank\"] = np.arange(1, len(imp_df)+1)\n",
    "\n",
    "imp_df.to_csv(\"final_gene_importance_permutation_test.csv\", index=False)\n",
    "print(\"[导出] final_gene_importance_permutation_test.csv\")\n",
    "\n",
    "\n",
    "\n",
    "corrs = []\n",
    "for j, g in enumerate(final_genes):\n",
    "    r, p = spearmanr(X_test_final[:, j], y_test)\n",
    "    corrs.append((g, r, p))\n",
    "\n",
    "corr_df = pd.DataFrame(corrs, columns=[\"gene\", \"spearman_r\", \"spearman_p\"])\n",
    "out = imp_df.merge(corr_df, on=\"gene\", how=\"left\")\n",
    "out.to_csv(\"final_gene_importance_with_direction.csv\", index=False)\n",
    "print(\"[导出] final_gene_importance_with_direction.csv\")\n",
    "\n",
    "\n",
    "\n",
    "cand = pd.read_csv(\"gene_candidates_ranked.csv\")  # 含 perm_importance_mean / stability_freq\n",
    "ranked_panel = (\n",
    "    cand[cand[\"gene\"].isin(final_genes)]\n",
    "    .sort_values([\"stability_freq\", \"perm_importance_mean\"], ascending=[False, False])\n",
    "    .reset_index(drop=True)\n",
    ")\n",
    "ranked_panel[\"rank\"] = ranked_panel.index + 1\n",
    "ranked_panel.to_csv(\"final_gene_panel_ranked_by_cv.csv\", index=False)\n",
    "print(\"[导出] final_gene_panel_ranked_by_cv.csv\")\n",
    "\n",
    "\n",
    "\n",
    "def plot_importance_from_cv(csv_path, top_k=10, save_path=\"importance_CV_topK.png\",\n",
    "                            weight_stability=False, stability_weight=0.5):\n",
    "    \"\"\"\n",
    "    从CV聚合结果绘图。兼容列名：\n",
    "      - 重要度：优先 'cv_perm_imp'，否则 'perm_importance_mean'\n",
    "      - 稳定性：优先 'cv_stability_freq'，否则 'stability_freq'\n",
    "    可选：把稳定性频次加入综合分数（更稳的排更前）。\n",
    "    \"\"\"\n",
    "    df = pd.read_csv(csv_path)\n",
    "\n",
    "    # 列映射\n",
    "    imp_col = \"cv_perm_imp\" if \"cv_perm_imp\" in df.columns else \\\n",
    "              \"perm_importance_mean\" if \"perm_importance_mean\" in df.columns else None\n",
    "    stab_col = \"cv_stability_freq\" if \"cv_stability_freq\" in df.columns else \\\n",
    "               \"stability_freq\" if \"stability_freq\" in df.columns else None\n",
    "    if imp_col is None:\n",
    "        raise ValueError(\"找不到重要度列（cv_perm_imp 或 perm_importance_mean）\")\n",
    "    if stab_col is None:\n",
    "        # 没有稳定性列也能画，只按重要度\n",
    "        df[\"_score\"] = df[imp_col].values\n",
    "    else:\n",
    "        if weight_stability:\n",
    "            # 简单线性综合：z(imp) + w * z(stability)\n",
    "            imp_z = (df[imp_col] - df[imp_col].mean()) / (df[imp_col].std(ddof=0) + 1e-12)\n",
    "            stab_z = (df[stab_col] - df[stab_col].mean()) / (df[stab_col].std(ddof=0) + 1e-12)\n",
    "            df[\"_score\"] = imp_z + stability_weight * stab_z\n",
    "        else:\n",
    "            df[\"_score\"] = df[imp_col].values\n",
    "\n",
    "    df = df.sort_values([\"_score\", imp_col], ascending=[False, False]).head(top_k)\n",
    "\n",
    "    genes = df[\"gene\"].values[::-1]\n",
    "    scores = df[\"_score\"].values[::-1]\n",
    "\n",
    "    plt.figure(figsize=(8, max(4, 0.35*len(genes))))\n",
    "    plt.barh(genes, scores)\n",
    "    xlabel = \"CV aggregated score\"\n",
    "    # if weight_stability and stab_col is not None:\n",
    "    #     xlabel += f\" (z({imp_col}) + {stability_weight}·z({stab_col}))\"\n",
    "    plt.xlabel(xlabel)\n",
    "    plt.title(f\"Top-{len(genes)} features by CV ranking\")\n",
    "    plt.tight_layout()\n",
    "    plt.savefig(save_path, dpi=150)\n",
    "    plt.close()\n",
    "    print(f\"[保存] {save_path}\")\n",
    "\n",
    "plot_importance_from_cv(\"final_gene_panel_ranked_by_cv.csv\", top_k=10,\n",
    "                        save_path=\"importance_CV_top10.png\",\n",
    "                        weight_stability=True, stability_weight=0.5)"
   ]
  }
 ],
 "metadata": {
  "kernelspec": {
   "display_name": "Python 3 (ipykernel)",
   "language": "python",
   "name": "python3"
  },
  "language_info": {
   "codemirror_mode": {
    "name": "ipython",
    "version": 3
   },
   "file_extension": ".py",
   "mimetype": "text/x-python",
   "name": "python",
   "nbconvert_exporter": "python",
   "pygments_lexer": "ipython3",
   "version": "3.10.6"
  }
 },
 "nbformat": 4,
 "nbformat_minor": 5
}
