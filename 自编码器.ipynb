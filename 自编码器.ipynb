{
 "cells": [
  {
   "cell_type": "code",
   "execution_count": 130,
   "id": "bcb68d82-57c7-4a63-814e-3abe7adcb20d",
   "metadata": {},
   "outputs": [],
   "source": [
    "import numpy as np\n",
    "import pandas as pd\n",
    "import scipy.stats as st\n",
    "import torch\n",
    "from torch import nn\n",
    "from torch.utils.data import dataset as Dataset\n",
    "from torch.utils.data import dataloader as Dataloader\n",
    "import torchvision\n",
    "import time\n",
    "import seaborn as sns\n",
    "from matplotlib import pyplot as plt"
   ]
  },
  {
   "cell_type": "code",
   "execution_count": 2,
   "id": "46b15425-fc82-480e-b669-5304068c3680",
   "metadata": {},
   "outputs": [],
   "source": [
    "loss = nn.MSELoss()\n",
    "# optimizer = torch.optim.Adam()\n",
    "nn.Unflatten()"
   ]
  },
  {
   "cell_type": "code",
   "execution_count": 123,
   "id": "6a486179-4988-4161-8a95-9dcda85b0c7b",
   "metadata": {},
   "outputs": [],
   "source": [
    "#继承Module类主要是为了能够在定义forward时实现autograde\n",
    "class VAE(nn.Module):\n",
    "    def __init__(self, input_size, output_size):\n",
    "        super().__init__()\n",
    "        self.input_size = input_size\n",
    "        self.output_size = input_size\n",
    "\n",
    "        self.encoder_net = nn.Sequential(\n",
    "            nn.Flatten(),\n",
    "            nn.Linear(self.input_size, 128),\n",
    "            nn.ReLU(),\n",
    "            nn.Linear(128, 64),\n",
    "            nn.ReLU(),\n",
    "            nn.Linear(64, 32)\n",
    "        )\n",
    "\n",
    "        self.decoder_net = nn.Sequential(\n",
    "            nn.Linear(32, 64),\n",
    "            nn.ReLU(),\n",
    "            nn.Linear(64, 128),\n",
    "            nn.ReLU(),\n",
    "            nn.Linear(128, self.output_size),\n",
    "            nn.Unflatten(1, (1, 28, 28))\n",
    "        ) \n",
    "\n",
    "    def encoder(self, X):\n",
    "        assert isinstance(X, torch.Tensor)\n",
    "        return self.encoder_net(X)\n",
    "\n",
    "    def decoder(self, X):\n",
    "        assert isinstance(X, torch.Tensor)\n",
    "        return self.decoder_net(X)\n",
    "\n",
    "    def forward(self, X):\n",
    "        X = self.encoder(X)\n",
    "        X = self.decoder(X)\n",
    "        return X"
   ]
  },
  {
   "cell_type": "code",
   "execution_count": 40,
   "id": "bc3263cd-ca47-42c8-afec-4055c3870395",
   "metadata": {},
   "outputs": [],
   "source": [
    "test1 = torch.Tensor(np.random.randint(0, 2, size=(1, 28*28)))"
   ]
  },
  {
   "cell_type": "code",
   "execution_count": 56,
   "id": "9f44cc88-32cd-4f8d-9998-5ca80614c7dd",
   "metadata": {
    "scrolled": true
   },
   "outputs": [],
   "source": [
    "#正则化[0.4914, 0.4822, 0.4465], [0.2023, 0.1994, 0.2010]， 但是对于单通道图片只要(0.4914,), (0.2023,)\n",
    "###三个数字数组代表三通道，一个代表单通道\n",
    "transforms = torchvision.transforms.Compose([\n",
    "    torchvision.transforms.ToTensor(),\n",
    "    torchvision.transforms.Normalize((0.4914,), (0.2023,))]\n",
    ")\n",
    "mnist_data = torchvision.datasets.MNIST('D:/Code_software/Jupyter_Notebook/data/mnist/test', transform=transforms)"
   ]
  },
  {
   "cell_type": "code",
   "execution_count": 118,
   "id": "a734107f-b097-4581-b63d-6f9f349a7114",
   "metadata": {},
   "outputs": [],
   "source": [
    "len_mnidata = len(mnist_data)\n",
    "len_data = 10000\n",
    "train_pct = 0.8\n",
    "train_samples = round(len_data * train_pct)\n",
    "subset, _ = Dataset.random_split(mnist_data, [len_data, len_mnidata - len_data])\n",
    "training_set, valid_set = Dataset.random_split(subset, [train_samples, len_data - train_samples])"
   ]
  },
  {
   "cell_type": "code",
   "execution_count": 114,
   "id": "bd98c3ca-de86-43d6-9267-dec70bb9aa24",
   "metadata": {},
   "outputs": [],
   "source": [
    "batch_size = 256"
   ]
  },
  {
   "cell_type": "code",
   "execution_count": 119,
   "id": "c2fe857d-25e6-483a-88a1-b7557dd5ca52",
   "metadata": {},
   "outputs": [],
   "source": [
    "#图片+label\n",
    "train_iter = Dataloader.DataLoader(training_set, batch_size, shuffle=True)\n",
    "valid_iter = Dataloader.DataLoader(valid_set, batch_size, shuffle=True)"
   ]
  },
  {
   "cell_type": "code",
   "execution_count": 91,
   "id": "17c5d1d4-94c7-4a25-862e-faa9935151b6",
   "metadata": {},
   "outputs": [],
   "source": [
    "class Accumulator():\n",
    "    def __init__(self, n):\n",
    "        self.ls = [0.0] * n\n",
    "\n",
    "    def add(self, *args):\n",
    "        self.ls = [a + float(b) for a, b in zip(self.ls, args)]\n",
    "\n",
    "    def __getitem__(self, index):\n",
    "        return self.ls[index]\n",
    "\n",
    "    def reset(self):\n",
    "        self.ls = [0.0] * len(self.ls)"
   ]
  },
  {
   "cell_type": "code",
   "execution_count": 150,
   "id": "ffd73e34-0e2c-4610-8b3a-7c6c2002c4f5",
   "metadata": {},
   "outputs": [],
   "source": [
    "def accuracy(y, y_hat):\n",
    "    # if len(y_hat.shape) > 1 and len(y_hat.shape[1]) > 1:\n",
    "    #     y_hat = y_hat.argmax(axis=1)\n",
    "    cmp = y_hat.type(y.dtype) == y\n",
    "    return float(cmp.type(y_hat.dtype).sum())\n",
    "\n",
    "def eval_accuracy(net, data_iter):\n",
    "    if isinstance(net, nn.Module):\n",
    "        net.eval()\n",
    "    counter = Accumulator(2)\n",
    "    for X, _ in data_iter:\n",
    "        X = X.to(device)\n",
    "        acc = accuracy(X, net(X))\n",
    "        counter.add(acc, X.numel())\n",
    "    return [counter[0], counter[1]]"
   ]
  },
  {
   "cell_type": "code",
   "execution_count": 155,
   "id": "a2aae040-4fbe-4081-8f91-85fe1642e433",
   "metadata": {},
   "outputs": [],
   "source": [
    "def train(net, train_iter, valid_iter, epochs, loss, lr, device):\n",
    "    if isinstance(net, nn.Module):\n",
    "        net.train()\n",
    "    net = net.to(device)\n",
    "    train_optim = torch.optim.Adam(net.parameters(), lr=lr)\n",
    "    metric = Accumulator(2)\n",
    "    ls = []\n",
    "    for i in range(epochs):\n",
    "        start_time = time.time()\n",
    "        for X, _ in train_iter:\n",
    "            X = X.to(device)\n",
    "            train_optim.zero_grad()\n",
    "            l = loss(net(X), X)\n",
    "            l.backward()\n",
    "            train_optim.step()\n",
    "            metric.add(l * len(X), len(X)) #shape (batchs_size, 通道, h, w)\n",
    "        time_cost = time.time() - start_time\n",
    "        if (i + 1) % 5 == 0:\n",
    "            acc = eval_accuracy(net, train_iter)\n",
    "            ls.append([metric[0] / metric[1], acc, acc[0] / acc[1], np.round(time_cost, 3)])\n",
    "        metric.reset()\n",
    "    return ls"
   ]
  },
  {
   "cell_type": "code",
   "execution_count": 156,
   "id": "4fe6b5df-6656-4131-a96b-fd0b11bc8a79",
   "metadata": {},
   "outputs": [],
   "source": [
    "vae = VAE(28*28, 28*28)\n",
    "epochs, lr = 50, 0.01\n",
    "device = torch.device(\"cuda\")"
   ]
  },
  {
   "cell_type": "code",
   "execution_count": 99,
   "id": "ada5fcf0-661f-462f-87c3-93250bde0326",
   "metadata": {},
   "outputs": [
    {
     "data": {
      "text/plain": [
       "<function torch.cuda.is_available() -> bool>"
      ]
     },
     "execution_count": 99,
     "metadata": {},
     "output_type": "execute_result"
    }
   ],
   "source": [
    "# vae.named_parameters()\n",
    "torch.cuda.is_available()"
   ]
  },
  {
   "cell_type": "code",
   "execution_count": 161,
   "id": "a7a8dbec-50c9-4f4b-b67b-008e281266d0",
   "metadata": {
    "scrolled": true
   },
   "outputs": [
    {
     "name": "stdout",
     "output_type": "stream",
     "text": [
      "tensor([[[[-2.4291, -2.4291, -2.4291,  ..., -2.4291, -2.4291, -2.4291],\n",
      "          [-2.4291, -2.4291, -2.4291,  ..., -2.4291, -2.4291, -2.4291],\n",
      "          [-2.4291, -2.4291, -2.4291,  ..., -2.4291, -2.4291, -2.4291],\n",
      "          ...,\n",
      "          [-2.4291, -2.4291, -2.4291,  ..., -2.4291, -2.4291, -2.4291],\n",
      "          [-2.4291, -2.4291, -2.4291,  ..., -2.4291, -2.4291, -2.4291],\n",
      "          [-2.4291, -2.4291, -2.4291,  ..., -2.4291, -2.4291, -2.4291]]],\n",
      "\n",
      "\n",
      "        [[[-2.4291, -2.4291, -2.4291,  ..., -2.4291, -2.4291, -2.4291],\n",
      "          [-2.4291, -2.4291, -2.4291,  ..., -2.4291, -2.4291, -2.4291],\n",
      "          [-2.4291, -2.4291, -2.4291,  ..., -2.4291, -2.4291, -2.4291],\n",
      "          ...,\n",
      "          [-2.4291, -2.4291, -2.4291,  ..., -2.4291, -2.4291, -2.4291],\n",
      "          [-2.4291, -2.4291, -2.4291,  ..., -2.4291, -2.4291, -2.4291],\n",
      "          [-2.4291, -2.4291, -2.4291,  ..., -2.4291, -2.4291, -2.4291]]],\n",
      "\n",
      "\n",
      "        [[[-2.4291, -2.4291, -2.4291,  ..., -2.4291, -2.4291, -2.4291],\n",
      "          [-2.4291, -2.4291, -2.4291,  ..., -2.4291, -2.4291, -2.4291],\n",
      "          [-2.4291, -2.4291, -2.4291,  ..., -2.4291, -2.4291, -2.4291],\n",
      "          ...,\n",
      "          [-2.4291, -2.4291, -2.4291,  ..., -2.4291, -2.4291, -2.4291],\n",
      "          [-2.4291, -2.4291, -2.4291,  ..., -2.4291, -2.4291, -2.4291],\n",
      "          [-2.4291, -2.4291, -2.4291,  ..., -2.4291, -2.4291, -2.4291]]],\n",
      "\n",
      "\n",
      "        ...,\n",
      "\n",
      "\n",
      "        [[[-2.4291, -2.4291, -2.4291,  ..., -2.4291, -2.4291, -2.4291],\n",
      "          [-2.4291, -2.4291, -2.4291,  ..., -2.4291, -2.4291, -2.4291],\n",
      "          [-2.4291, -2.4291, -2.4291,  ..., -2.4291, -2.4291, -2.4291],\n",
      "          ...,\n",
      "          [-2.4291, -2.4291, -2.4291,  ..., -2.4291, -2.4291, -2.4291],\n",
      "          [-2.4291, -2.4291, -2.4291,  ..., -2.4291, -2.4291, -2.4291],\n",
      "          [-2.4291, -2.4291, -2.4291,  ..., -2.4291, -2.4291, -2.4291]]],\n",
      "\n",
      "\n",
      "        [[[-2.4291, -2.4291, -2.4291,  ..., -2.4291, -2.4291, -2.4291],\n",
      "          [-2.4291, -2.4291, -2.4291,  ..., -2.4291, -2.4291, -2.4291],\n",
      "          [-2.4291, -2.4291, -2.4291,  ..., -2.4291, -2.4291, -2.4291],\n",
      "          ...,\n",
      "          [-2.4291, -2.4291, -2.4291,  ..., -2.4291, -2.4291, -2.4291],\n",
      "          [-2.4291, -2.4291, -2.4291,  ..., -2.4291, -2.4291, -2.4291],\n",
      "          [-2.4291, -2.4291, -2.4291,  ..., -2.4291, -2.4291, -2.4291]]],\n",
      "\n",
      "\n",
      "        [[[-2.4291, -2.4291, -2.4291,  ..., -2.4291, -2.4291, -2.4291],\n",
      "          [-2.4291, -2.4291, -2.4291,  ..., -2.4291, -2.4291, -2.4291],\n",
      "          [-2.4291, -2.4291, -2.4291,  ..., -2.4291, -2.4291, -2.4291],\n",
      "          ...,\n",
      "          [-2.4291, -2.4291, -2.4291,  ..., -2.4291, -2.4291, -2.4291],\n",
      "          [-2.4291, -2.4291, -2.4291,  ..., -2.4291, -2.4291, -2.4291],\n",
      "          [-2.4291, -2.4291, -2.4291,  ..., -2.4291, -2.4291, -2.4291]]]]) 256 256 torch.Size([3, 1, 28, 28])\n"
     ]
    }
   ],
   "source": [
    "ct = 0\n",
    "rd_index = np.array([10, 13, 3])\n",
    "for X, y in train_iter:\n",
    "    if ct == 0:\n",
    "        print(X, len(X), y.numel(), X[rd_index].shape)\n",
    "        ct += 1\n",
    "    else: break"
   ]
  },
  {
   "cell_type": "code",
   "execution_count": 189,
   "id": "a6a5fb7d-c0ae-47c6-8ddc-d8c801bd0027",
   "metadata": {},
   "outputs": [
    {
     "data": {
      "text/plain": [
       "[[0.8813672795295715, [2.0, 6272000.0], 3.1887755102040816e-07, 1.603],\n",
       " [0.8762503733634949, [4.0, 6272000.0], 6.377551020408163e-07, 1.513],\n",
       " [0.8756610550880433, [4.0, 6272000.0], 6.377551020408163e-07, 1.566],\n",
       " [0.8738122658729554, [13.0, 6272000.0], 2.072704081632653e-06, 1.594],\n",
       " [0.8654457964897155, [8.0, 6272000.0], 1.2755102040816327e-06, 1.652],\n",
       " [0.868292818069458, [4.0, 6272000.0], 6.377551020408163e-07, 1.572],\n",
       " [0.8634440417289734, [8.0, 6272000.0], 1.2755102040816327e-06, 1.491],\n",
       " [0.8685099983215332, [5.0, 6272000.0], 7.971938775510204e-07, 1.475],\n",
       " [0.87437335729599, [10.0, 6272000.0], 1.5943877551020409e-06, 1.785],\n",
       " [0.8632345886230469, [9.0, 6272000.0], 1.4349489795918367e-06, 1.657]]"
      ]
     },
     "execution_count": 189,
     "metadata": {},
     "output_type": "execute_result"
    }
   ],
   "source": [
    "train(vae, train_iter, valid_iter, epochs, loss, lr, device)"
   ]
  },
  {
   "cell_type": "code",
   "execution_count": 186,
   "id": "39f5a598-90c5-4469-8f29-c101f662fa70",
   "metadata": {},
   "outputs": [],
   "source": [
    "def valid_test(net, valid_iter, device):\n",
    "    if isinstance(net, nn.Module):\n",
    "        net.eval()\n",
    "    switch = 0\n",
    "    np_pic = []\n",
    "    for X, _ in valid_iter:\n",
    "        if switch == 0:\n",
    "            rand_index = np.random.randint(0, 255, 3)\n",
    "            X_sub = X[rand_index].to(device)\n",
    "            output = net(X_sub).to(\"cpu\")\n",
    "            X_sub = X_sub.to(\"cpu\")\n",
    "            for i in output:\n",
    "                np_pic.append(i.permute(1, 2, 0).detach().numpy())\n",
    "            for j in X_sub:\n",
    "                np_pic.append(j.permute(1, 2, 0).numpy())\n",
    "            \n",
    "            return np_pic\n",
    "        else:\n",
    "            break"
   ]
  },
  {
   "cell_type": "code",
   "execution_count": 196,
   "id": "971081c6-eec0-4102-bf9f-12941513f558",
   "metadata": {},
   "outputs": [],
   "source": [
    "tst_pic = valid_test(vae, valid_iter, device)"
   ]
  },
  {
   "cell_type": "code",
   "execution_count": 197,
   "id": "6c401f25-c18e-46c7-97aa-538fb7b14e28",
   "metadata": {},
   "outputs": [
    {
     "data": {
      "image/png": "[encoded data removed]",
      "text/plain": [
       "<Figure size 640x480 with 6 Axes>"
      ]
     },
     "metadata": {},
     "output_type": "display_data"
    }
   ],
   "source": [
    "fig, ax = plt.subplots(2, 3)\n",
    "ax = ax.flatten()\n",
    "for i, axes in enumerate(ax):\n",
    "    axes.imshow(tst_pic[i])\n",
    "    axes.axis('off')\n",
    "plt.tight_layout()\n",
    "plt.show()"
   ]
  },
  {
   "cell_type": "code",
   "execution_count": null,
   "id": "870f4979-675a-4409-8e9f-bf5c70ff08f9",
   "metadata": {},
   "outputs": [],
   "source": [
    "for net in vae.encoder_net.children():\n",
    "    print(net.__class__.__name__, f'the shape of this layer is', net(test1).shape)\n",
    "    test1 = net(test1)"
   ]
  }
 ],
 "metadata": {
  "kernelspec": {
   "display_name": "Python 3 (ipykernel)",
   "language": "python",
   "name": "python3"
  },
  "language_info": {
   "codemirror_mode": {
    "name": "ipython",
    "version": 3
   },
   "file_extension": ".py",
   "mimetype": "text/x-python",
   "name": "python",
   "nbconvert_exporter": "python",
   "pygments_lexer": "ipython3",
   "version": "3.10.6"
  }
 },
 "nbformat": 4,
 "nbformat_minor": 5
}
