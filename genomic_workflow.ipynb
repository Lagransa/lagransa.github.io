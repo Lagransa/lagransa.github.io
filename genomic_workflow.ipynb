{
 "cells": [
  {
   "cell_type": "code",
   "execution_count": 1,
   "id": "15eba31d-ebf4-48ca-a8cb-e91f46eca363",
   "metadata": {},
   "outputs": [],
   "source": [
    "import subprocess\n",
    "import os\n",
    "import re\n",
    "import pandas as pd\n",
    "import numpy as np\n",
    "import json\n",
    "from matplotlib import pyplot as plt\n",
    "from operator import add\n",
    "from functools import reduce"
   ]
  },
  {
   "cell_type": "code",
   "execution_count": null,
   "id": "75911c8a-eb88-486a-b5e6-dd71e76913da",
   "metadata": {},
   "outputs": [],
   "source": [
    "qc_json = \"\"\n",
    "cutadapt_json = \"\"\n",
    "mapping_json = \"\"\n",
    "calling_json = \"\"\n",
    "downstream_json = \"\"\n",
    "\n",
    "def load_json(json_path):\n",
    "    with open(json_path, 'r') as f:\n",
    "        json_config = json.read(f)\n",
    "    return json_config"
   ]
  },
  {
   "cell_type": "code",
   "execution_count": 6,
   "id": "0169460b-a0da-4455-bc60-cddb8c6af1ee",
   "metadata": {},
   "outputs": [],
   "source": [
    "def commands(*args):\n",
    "    if args != None and len(args) != 0:\n",
    "        try:\n",
    "            # print(args, args[0])\n",
    "            return args[0].split() if isinstance(args[0], str) else args[0]\n",
    "        except Exception as e:\n",
    "            print(e)\n",
    "    else:\n",
    "        print('Commands can not be empty or None, check your input!')\n",
    "\n",
    "\n",
    "def geno_pipe(cmd, num_pipe, cwd=None, is_wsl=False, univer=False, encoding=None):\n",
    "    assert type(cmd) == list\n",
    "    try:\n",
    "        cmd = [i for i in cmd]\n",
    "        software = cmd[0]\n",
    "        if is_wsl:\n",
    "            cmd[0:0] = ['wsl']\n",
    "        p = subprocess.run(cmd, cwd=cwd, stderr=subprocess.PIPE, encoding=encoding, universal_newlines=univer)\n",
    "        if p.returncode == 0:\n",
    "            print(f'Pipe {num_pipe} command of software {software} running successfully!')\n",
    "            return p\n",
    "        else:\n",
    "            print(f'Error: Pipe {num_pipe} command failed with code{p.returncode}, check your parameters!')\n",
    "            return p\n",
    "    except Exception as e:\n",
    "        print(f'Geno pipe failed start with error message: {e}')\n",
    "\n",
    "\n",
    "def fast_qc(script_path, *args):\n",
    "    return f\"{script_path} {args[0]} {args[1]} {args[2]}\"\n",
    "\n",
    "\n",
    "\n",
    "\n",
    "def cutadapt(reads, output_path, is_paired_end=False, reads2=None):\n",
    "    \n",
    "    \n",
    "\n",
    "def snp_calling(vcf, output_prefix):\n",
    "    assert \n",
    "\n",
    "\n",
    "def vcftools_default_statistic_command(vcf, output_prefix):\n",
    "    assert type(raw_vcf) == str and type(output_prefix) == str\n",
    "    alle_freq = f'vcftools --vcf {vcf} --out {output_prefix} --freq2 --max-alleles 2'\n",
    "    indv_mean_depth = f'vcftools --vcf {vcf} --out {output_prefix} --depth'\n",
    "    site_mean_depth = f'vcftools --vcf {vcf} --out {output_prefix} --site-mean-depth'\n",
    "    site_quality = f'vcftools --vcf {vcf} --out {output_prefix} --site-quality'\n",
    "    missing_data_per_indv = f'vcftools --vcf {vcf} --out {output_prefix} --missing-indv'\n",
    "    missing_data_per_site = f'vcftools --vcf {vcf} --out {output_prefix} --missing-site'\n",
    "    heterozygosity = f'vcftools --vcf {vcf} --out {output_prefix} --het'\n",
    "    all = reduce(add, (alle_freq, indv_mean_depth, site_mean_depth, site_quality, missing_data_per_indv, missing_data_per_site, heterozygosity))\n",
    "    return all\n",
    "\n",
    "\n",
    "def rplot_vcf_statistic_command(script_path, output_prefix, extensions):\n",
    "    assert type(extensions) == list\n",
    "    cmd = ['Rscript', script_path, output_prefix] + extensions\n",
    "    return ' '.join(cmd)\n",
    "\n",
    "\n",
    "def vcftools_default_qc_command(raw_vcf, output_prefix, *args):\n",
    "    assert type(raw_vcf) == str and type(output_prefix) == str\n",
    "    # maf = \n",
    "    mac = args[0]\n",
    "    min_q = args[1]\n",
    "    min_depth = args[2]\n",
    "    max_depth = args[3]\n",
    "    min_mean_depth = args[4]\n",
    "    max_mean_depth = args[5]\n",
    "    max_missing = args[6]\n",
    "    software = f'vcftools --vcf {raw_vcf} --out {output_prefix}.vcf.gz --recode --recode-INFO-all'\n",
    "    filter_indel_missing = f' --remove-indels --max-missing {max_missing}'\n",
    "    snp_filter = f' --mac {mac} --minQ {min_q} --minDP {min_depth} --maxDP {max_depth} --min-meanDP {min_mean_depth} --max-meanDP{max_mean_depth}'\n",
    "    all = software + filter_indel_missing + snp_filter\n",
    "    return all\n",
    "\n",
    "\n",
    "def customized_vcftools_qc_command(raw_vcf, output_prefix):\n",
    "    pass\n",
    "\n",
    "\n",
    "def plink_default_removeLDsites_command(vcf, output_prefix):\n",
    "    indpend = '50 10 0.1'\n",
    "    return f'plink --vcf {vcf} --double-id --allow-extra-chr --set-missing-var-ids @:# --indep-pairwise {inindpend} --out {output_prefix}'\n",
    "\n",
    "\n",
    "def plink_default_PCA_command(vcf, LE_prefix, output_prefix):\n",
    "    return f'plink --vcf {vcf} --double-id --allow-extra-chr --set-missing-var-ids @:# --extract {LE_prefix}.prune.in --make-bed --pca --out {output_prefix}'\n",
    "\n",
    "\n",
    "def rplot_elbow_pca_command(script_path):\n",
    "    cmd = ['Rscript', script_path]\n",
    "    return ''.join(cmd)\n",
    "\n",
    "\n",
    "def vcf2fasta(project_path, vcf, output_prefix):\n",
    "    path = os.path.join(project_path, vcf)\n",
    "    fasta_path = os.path.join(project_path, 'fasta')\n",
    "    return f'vcf2phylip.py -i {path} --output-folder {fasta_path} --output-prefix {output_prefix} -f'\n",
    "\n",
    "\n",
    "def phylo_iqtree(iqtree_path, fasta_path, n_threads, n_bootstrap, model='MFP+ASC', type_data='DNA'):\n",
    "    return f'{iqtree_path} -s {fasta_path} -bb {n_bootstrap} -nt {n_threads} -m {model} -st {type_data}'\n",
    "\n",
    "\n"
   ]
  },
  {
   "cell_type": "code",
   "execution_count": 5,
   "id": "cfc91bcb-8193-4215-8999-bfb5a30cf076",
   "metadata": {},
   "outputs": [
    {
     "data": {
      "text/plain": [
       "'Rscript /mnt/d/Code_software/Jupyter_Notebook/git_backup/lagransa.github.io/vcf_statitics.R 5th_132indv frq idepth ldepth.mean lqual imiss lmiss het'"
      ]
     },
     "execution_count": 5,
     "metadata": {},
     "output_type": "execute_result"
    }
   ],
   "source": [
    "script_path = '/mnt/d/Code_software/Jupyter_Notebook/git_backup/lagransa.github.io/genomic_workflow/vcf_statitics.R'\n",
    "project_path =  'C:/BMK_new_drive/WorkFlow_test/'\n",
    "output_prefix = '5th_132indv'\n",
    "extensions = ['frq', 'idepth', 'ldepth.mean', 'lqual', 'imiss', 'lmiss', 'het']\n",
    "\n",
    "a = rplot_vcf_statistic_command(script_path, output_prefix, extensions)\n",
    "a"
   ]
  },
  {
   "cell_type": "code",
   "execution_count": 32,
   "id": "5cc44e9a-665c-4e7f-9cd6-e6826b4a413b",
   "metadata": {},
   "outputs": [
    {
     "name": "stdout",
     "output_type": "stream",
     "text": [
      "101716 before\n",
      "#CHROM\tPOS\tID\tREF\tALT\tQUAL\tFILTER\tINFO\tFORMAT\tai\taj\tak\tal\tam\tan\tao\tar\tas\tat\tau\tav\tbm\tbn\tbo\tbp\tbq\tbr\tbs\tbt\tbu\tbv\tcj\tck\tcm\tco\tcp\tcq\tct\tcu\tcv\tcw\tcx\tcy\tcz\tda\tdb\tdc\tdf\tdg\tdi\tdj\tdk\tdm\tdo\tdp\tdq\tdr\tds\tdt\tdu\tdv\tdw\tdx\tdy\tdz\tea\tec\ted\tee\tef\teg\teh\tei\tej\tek\tel\tem\ten\teo\tep\teq\ter\tfd\tfe\tff\tfg\tfm\tfn\n",
      "\n",
      "101638 ['NC_013669.1', '25692', '.', 'G', 'A', '23051.6', 'PASS', 'AC=64;AF=0.225;AN=284;BaseQRankSum=11.655;DP=3042;Dels=0.00;ExcessHet=0.1654;FS=0.000;HaplotypeScore=0.3156;InbreedingCoeff=0.1411;MLEAC=64;MLEAF=0.225;MQ=59.95;MQ0=0;MQRankSum=0.024;QD=20.44;ReadPosRankSum=0.231;SOR=0.067;VQSLOD=3.48;culprit=MQRankSum;set=variant', 'GT:AD:DP:GQ:PL', '0/0:30,0:30:90:0,90,1259', '0/1:20,13:33:99:450,0,745', '0/0:24,0:24:72:0,72,1009', '0/0:36,0:36:99:0,108,1490', '0/0:20,0:20:60:0,60,827', '0/0:19,0:19:57:0,57,798', '0/0:31,0:31:93:0,93,1305', '0/0:5,0:5:12:0,12,169', '0/1:14,2:16:36:36,0,530', '0/0:15,0:15:45:0,45,621', './.:2,0:2:6:0,6,84', './.:53,0:53:99:0,160,2203', '0/0:18,0:18:54:0,54,760', '0/0:31,0:32:93:0,93,1305', '0/0:16,0:16:48:0,48,651', '0/0:21,0:21:63:0,63,865', '0/0:15,0:15:45:0,45,633', '0/0:38,0:38:99:0,114,1580', '0/0:11,0:11:33:0,33,462', '0/0:20,0:20:60:0,60,842', '0/0:9,0:9:27:0,27,380', '0/0:19,0:19:57:0,57,800', './.:2,0:2:6:0,6,84', '0/0:5,0:5:15:0,15,211', '0/0:11,0:11:33:0,33,462', './.:4,0:4:12:0,12,169', '0/0:9,0:9:27:0,27,380', '0/0:14,0:14:42:0,42,585', '0/0:22,0:22:66:0,66,923', '0/0:9,0:9:27:0,27,380', '0/0:8,0:8:24:0,24,338', '0/0:8,0:8:21:0,21,293', '0/0:17,0:17:51:0,51,710', '0/0:20,0:20:60:0,60,845', './.:4,0:4:12:0,12,169', '0/0:15,0:15:45:0,45,631', './.:65,0:65:99:0,196,2715', '0/0:13,0:13:39:0,39,547', '0/1:10,6:16:99:205,0,372', '0/0:40,0:40:99:0,120,1689', '0/1:10,5:15:99:160,0,364', '0/0:35,0:35:99:0,105,1470', './.:55,0:55:99:0,166,2297', '1/1:0,18:18:54:758,54,0', '0/0:31,0:31:93:0,93,1309', '1/1:0,12:12:36:507,36,0', '0/1:9,8:17:99:287,0,321', '0/0:10,0:10:30:0,30,420', '0/1:8,12:20:99:427,0,278', '1/1:0,10:10:30:422,30,0', '0/1:6,11:17:99:413,0,181', '0/1:19,6:25:99:181,0,682', '0/1:10,30:40:99:1144,0,296', '0/0:18,0:18:54:0,54,752', '0/0:35,0:35:99:0,105,1476', '0/1:19,17:36:99:607,0,675', '0/1:3,13:16:79:501,0,79', '0/0:22,0:22:66:0,66,914', '0/1:15,10:25:99:347,0,552', '1/1:0,18:18:54:760,54,0', '0/1:3,20:23:57:767,0,57', '0/1:3,6:9:99:226,0,100', '0/1:20,11:31:99:367,0,736', '1/1:0,21:21:63:885,63,0', '0/1:9,14:23:99:520,0,311', '0/1:7,7:14:99:257,0,173', '0/1:15,19:34:99:694,0,531', '0/1:5,10:15:99:372,0,110', '1/1:0,24:24:72:998,72,0', '0/0:25,1:26:36:0,36,1007', '0/1:13,5:18:99:157,0,493', '0/0:13,0:13:39:0,39,549', './.:2,0:2:6:0,6,84', '0/0:26,0:26:78:0,78,1085', '0/0:13,0:13:39:0,39,545', '0/0:19,0:19:57:0,57,798', '0/0:18,0:18:54:0,54,750', '0/0:15,0:15:45:0,45,627', '1/1:0,13:13:39:549,39,0']\n"
     ]
    }
   ],
   "source": [
    "with open(project_path+'79snp.vcf', 'r') as f:\n",
    "    s = f.readlines()\n",
    "    print(len(s), 'before')\n",
    "    # print(s[60:90])\n",
    "    pattern = '^#CHROM.*'\n",
    "    ind = 0\n",
    "    for i in s:\n",
    "        if re.match(pattern, i) != None:\n",
    "            ind += s.index(i)\n",
    "            break\n",
    "    print(s[ind])\n",
    "    s = s[ind+1:]\n",
    "    print(len(s), s[0].split())\n",
    "    "
   ]
  },
  {
   "cell_type": "code",
   "execution_count": 17,
   "id": "bf1405df-a1d8-45e1-9d6d-22bcf5353fc6",
   "metadata": {
    "scrolled": true
   },
   "outputs": [
    {
     "name": "stdout",
     "output_type": "stream",
     "text": [
      "Pipe 0 command of software Rscript running successfully!\n"
     ]
    },
    {
     "data": {
      "text/plain": [
       "CompletedProcess(args=['wsl', 'Rscript', '/mnt/d/Code_software/Jupyter_Notebook/git_backup/lagransa.github.io/vcf_statistics.R', '/mnt/c/BMK_new_drive/WorkFlow_test/', '5th_132indv', 'frq', 'idepth', 'ldepth.mean', 'lqual', 'imiss', 'lmiss', 'het'], returncode=0, stderr='── Attaching core tidyverse packages ──────────────────────────────────────────────────────────────── tidyverse 2.0.0 ──\\n✔ dplyr     1.1.4     ✔ readr     2.1.5\\n✔ forcats   1.0.0     ✔ stringr   1.5.1\\n✔ lubridate 1.9.3     ✔ tibble    3.2.1\\n✔ purrr     1.0.2     ✔ tidyr     1.3.1\\n── Conflicts ────────────────────────────────────────────────────────────────────────────────── tidyverse_conflicts() ──\\n✖ dplyr::filter() masks stats::filter()\\n✖ dplyr::lag()    masks stats::lag()\\nℹ Use the conflicted package (<http://conflicted.r-lib.org/>) to force all conflicts to become errors\\nRows: 101638 Columns: 3\\n── Column specification ────────────────────────────────────────────────────────────────────────────────────────────────\\nDelimiter: \"\\\\t\"\\nchr (1): chrom\\ndbl (2): pos, qual\\n\\nℹ Use `spec()` to retrieve the full column specification for this data.\\nℹ Specify the column types or set `show_col_types = FALSE` to quiet this message.\\nSaving 7 x 7 in image\\n警告信息:\\nRemoved 38090 rows containing non-finite outside the scale range (`stat_density()`). \\nRows: 101638 Columns: 4\\n── Column specification ────────────────────────────────────────────────────────────────────────────────────────────────\\nDelimiter: \"\\\\t\"\\nchr (1): chr\\ndbl (3): pos, mean_depth, var_depth\\n\\nℹ Use `spec()` to retrieve the full column specification for this data.\\nℹ Specify the column types or set `show_col_types = FALSE` to quiet this message.\\nSaving 7 x 7 in image\\nRows: 132 Columns: 3\\n── Column specification ────────────────────────────────────────────────────────────────────────────────────────────────\\nDelimiter: \"\\\\t\"\\nchr (1): ind\\ndbl (2): nsites, depth\\n\\nℹ Use `spec()` to retrieve the full column specification for this data.\\nℹ Specify the column types or set `show_col_types = FALSE` to quiet this message.\\nSaving 7 x 7 in image\\n`stat_bin()` using `bins = 30`. Pick better value with `binwidth`.\\nRows: 132 Columns: 5\\n── Column specification ────────────────────────────────────────────────────────────────────────────────────────────────\\nDelimiter: \"\\\\t\"\\nchr (1): ind\\ndbl (4): ndata, nfiltered, nmiss, fmiss\\n\\nℹ Use `spec()` to retrieve the full column specification for this data.\\nℹ Specify the column types or set `show_col_types = FALSE` to quiet this message.\\nSaving 7 x 7 in image\\n`stat_bin()` using `bins = 30`. Pick better value with `binwidth`.\\nRows: 101638 Columns: 6\\n── Column specification ────────────────────────────────────────────────────────────────────────────────────────────────\\nDelimiter: \"\\\\t\"\\nchr (1): ind\\ndbl (5): ndata, nfiltered, nmiss, fmiss, X6\\n\\nℹ Use `spec()` to retrieve the full column specification for this data.\\nℹ Specify the column types or set `show_col_types = FALSE` to quiet this message.\\nSaving 7 x 7 in image\\n`stat_bin()` using `bins = 30`. Pick better value with `binwidth`.\\nRows: 100469 Columns: 6\\n── Column specification ────────────────────────────────────────────────────────────────────────────────────────────────\\nDelimiter: \"\\\\t\"\\nchr (1): chrom\\ndbl (5): pos, n_alleles, chr, a1, a2\\n\\nℹ Use `spec()` to retrieve the full column specification for this data.\\nℹ Specify the column types or set `show_col_types = FALSE` to quiet this message.\\nSaving 7 x 7 in image\\nRows: 132 Columns: 5\\n── Column specification ────────────────────────────────────────────────────────────────────────────────────────────────\\nDelimiter: \"\\\\t\"\\nchr (1): ind\\ndbl (4): ho, he, nsites, f\\n\\nℹ Use `spec()` to retrieve the full column specification for this data.\\nℹ Specify the column types or set `show_col_types = FALSE` to quiet this message.\\nSaving 7 x 7 in image\\n`stat_bin()` using `bins = 30`. Pick better value with `binwidth`.\\n')"
      ]
     },
     "execution_count": 17,
     "metadata": {},
     "output_type": "execute_result"
    }
   ],
   "source": [
    "# subprocess.run(f\"wsl conda activate && {b}\", shell=True, stderr=subprocess.PIPE, universal_newlines=True)\n",
    "# tst = subprocess.Popen(b, shell=True, stderr=subprocess.PIPE, universal_newlines=True, encoding='utf-8')\n",
    "c = commands(b)\n",
    "d = c\n",
    "geno_pipe(d, 0, cwd=project_path, is_wsl=True, univer=True, encoding='utf-8')"
   ]
  },
  {
   "cell_type": "code",
   "execution_count": null,
   "id": "2c98da05-4f70-4556-a591-1cca1b57bfdf",
   "metadata": {},
   "outputs": [],
   "source": []
  },
  {
   "cell_type": "code",
   "execution_count": 2,
   "id": "e23e46c7-869d-4cf3-913e-b845171ea39e",
   "metadata": {},
   "outputs": [],
   "source": [
    "project_path = 'C:/BMK_new_drive/WorkFlow_test/'\n",
    "raw_vcf = '*.vcf'\n",
    "vcf_prefix = 'test'\n",
    "\n",
    "# vcftools_cmd = f'vcftools --vcf {raw_vcf} --mac 3 -- --recode --out {vcf_prefix}'\n",
    "# t1cmd = commands(testcmd)\n",
    "# t1 = geno_pipe(t1cmd, 1, project_path, is_wsl=True, univer=True)"
   ]
  },
  {
   "cell_type": "code",
   "execution_count": 3,
   "id": "92b079fe-2a94-4bea-a188-e501d5f417aa",
   "metadata": {},
   "outputs": [
    {
     "data": {
      "text/plain": [
       "'C:/BMK_new_drive/WorkFlow_test/fasta'"
      ]
     },
     "execution_count": 3,
     "metadata": {},
     "output_type": "execute_result"
    }
   ],
   "source": [
    "test = os.path.join(project_path, 'fasta')\n",
    "test"
   ]
  },
  {
   "cell_type": "code",
   "execution_count": 142,
   "id": "13524c1c-187a-4b57-bb1b-8ca1ddcc6fdf",
   "metadata": {},
   "outputs": [
    {
     "name": "stdout",
     "output_type": "stream",
     "text": [
      "('cat ./asd/1.txt',) cat ./asd/1.txt\n",
      "['wsl', 'cat', './asd/1.txt'] this is a check cmd\n",
      "Pipe 0 command of software cat running successfully!\n"
     ]
    },
    {
     "data": {
      "text/plain": [
       "CompletedProcess(args=['wsl', 'cat', './asd/1.txt'], returncode=0, stderr='')"
      ]
     },
     "execution_count": 142,
     "metadata": {},
     "output_type": "execute_result"
    }
   ],
   "source": [
    "project_path2 = '/mnt/c/BMK_new_drive/WorkFlow_test/'\n",
    "testcmd = f'cat ./asd/1.txt'\n",
    "tcmd = commands(testcmd)\n",
    "t0 = geno_pipe(tcmd, 0, project_path, is_wsl=True, univer=True)\n",
    "t0"
   ]
  },
  {
   "cell_type": "code",
   "execution_count": 47,
   "id": "bb15a505-3ed4-43d9-b3ca-c87d650ab287",
   "metadata": {},
   "outputs": [
    {
     "name": "stdout",
     "output_type": "stream",
     "text": [
      "None\n"
     ]
    }
   ],
   "source": [
    "is_wsl = True\n",
    "wsl = t1cmd\n",
    "wsl = wsl.insert(0, 'wsl') if is_wsl else wsl\n",
    "print(wsl)"
   ]
  },
  {
   "cell_type": "code",
   "execution_count": 144,
   "id": "239272a1-9566-44e3-b598-19d5933907ff",
   "metadata": {},
   "outputs": [
    {
     "data": {
      "text/plain": [
       "'vcftools --vcf *.vcf --mac 3 --output test'"
      ]
     },
     "execution_count": 144,
     "metadata": {},
     "output_type": "execute_result"
    }
   ],
   "source": [
    "ts = f'vcftools --vcf {vcffile} \\\n",
    "--mac 3 --output \\\n",
    "{vcf_prefix}'\n",
    "# ts = ts.split() if isinstance(ts, str) else ts\n",
    "ts"
   ]
  },
  {
   "cell_type": "code",
   "execution_count": 172,
   "id": "0b0cd851-f4d6-4d2d-b4c5-7768aa4f2c19",
   "metadata": {},
   "outputs": [
    {
     "data": {
      "text/plain": [
       "'/mnt/c\\\\asdasd'"
      ]
     },
     "execution_count": 172,
     "metadata": {},
     "output_type": "execute_result"
    }
   ],
   "source": [
    "path1 = '/mnt/c'\n",
    "path2 = 'asdasd'\n",
    "x = os.path.join(path1, path2)\n",
    "x"
   ]
  },
  {
   "cell_type": "code",
   "execution_count": 41,
   "id": "b1fb38be-8bb8-459d-a9c0-b25061477dcb",
   "metadata": {},
   "outputs": [],
   "source": [
    "a = np.random.randint((100, 100), size=(10, 2))"
   ]
  },
  {
   "cell_type": "code",
   "execution_count": 7,
   "id": "54f92dd6-8161-49b0-af31-372572eddb45",
   "metadata": {},
   "outputs": [
    {
     "name": "stdout",
     "output_type": "stream",
     "text": [
      "[13, 'test', 15, 17] [13, 15, 17]\n"
     ]
    }
   ],
   "source": [
    "ts = [13, 15, 17]\n",
    "def test_para(b):\n",
    "    b = [i for i in b]\n",
    "    b[1:1] = ['test']\n",
    "    return b\n",
    "print(test_para(ts), ts)"
   ]
  }
 ],
 "metadata": {
  "kernelspec": {
   "display_name": "Python 3 (ipykernel)",
   "language": "python",
   "name": "python3"
  },
  "language_info": {
   "codemirror_mode": {
    "name": "ipython",
    "version": 3
   },
   "file_extension": ".py",
   "mimetype": "text/x-python",
   "name": "python",
   "nbconvert_exporter": "python",
   "pygments_lexer": "ipython3",
   "version": "3.10.6"
  }
 },
 "nbformat": 4,
 "nbformat_minor": 5
}
